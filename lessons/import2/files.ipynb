{
 "cells": [
  {
   "cell_type": "code",
   "execution_count": 1,
   "metadata": {},
   "outputs": [
    {
     "name": "stdout",
     "output_type": "stream",
     "text": [
      "6\n"
     ]
    }
   ],
   "source": [
    "fh = open('test.txt', 'w')\n",
    "symbols_written = fh.write('hello!')\n",
    "print(symbols_written)  # 6\n",
    "fh.close()\n"
   ]
  },
  {
   "cell_type": "code",
   "execution_count": 4,
   "metadata": {},
   "outputs": [
    {
     "name": "stdout",
     "output_type": "stream",
     "text": [
      "he\n",
      "l\n",
      "lo w\n"
     ]
    }
   ],
   "source": [
    "fh = open('test.txt', 'w')\n",
    "fh.write('hello world!')\n",
    "fh.close()\n",
    "\n",
    "fh = open('test.txt', 'r')\n",
    "first_two_symbols = fh.read(2)\n",
    "print(first_two_symbols)  # 'he'\n",
    "print(fh.read(1))\n",
    "print(fh.read(4))\n",
    "fh.close()\n"
   ]
  },
  {
   "cell_type": "code",
   "execution_count": 3,
   "metadata": {},
   "outputs": [
    {
     "name": "stdout",
     "output_type": "stream",
     "text": [
      "hello!\n"
     ]
    }
   ],
   "source": [
    "fh = open('test.txt', 'w')\n",
    "fh.write('hello!')\n",
    "fh.close()\n",
    "\n",
    "fh = open('test.txt', 'r')\n",
    "all_file = fh.read()\n",
    "print(all_file)  # 'hello!'\n",
    "\n",
    "fh.close()\n"
   ]
  },
  {
   "cell_type": "code",
   "execution_count": 6,
   "metadata": {},
   "outputs": [
    {
     "name": "stdout",
     "output_type": "stream",
     "text": [
      "h e l l o ! "
     ]
    }
   ],
   "source": [
    "fh = open('test.txt', 'w')\n",
    "fh.write('hello!')\n",
    "fh.close()\n",
    "\n",
    "fh = open('test.txt', 'r')\n",
    "while True:\n",
    "    symbol = fh.read(1)\n",
    "    if len(symbol) == 0:\n",
    "        break\n",
    "    print(symbol, end=\" \")\n",
    "\n",
    "fh.close()\n"
   ]
  },
  {
   "cell_type": "code",
   "execution_count": 7,
   "metadata": {},
   "outputs": [
    {
     "name": "stdout",
     "output_type": "stream",
     "text": [
      "first line\n",
      "\n",
      "second line\n",
      "\n",
      "third line\n"
     ]
    }
   ],
   "source": [
    "fh = open('test.txt', 'w')\n",
    "fh.write('first line\\nsecond line\\nthird line')\n",
    "fh.close()\n",
    "\n",
    "fh = open('test.txt', 'r')\n",
    "while True:\n",
    "    line = fh.readline()\n",
    "    if not line:\n",
    "        break\n",
    "    print(line)\n",
    "\n",
    "fh.close()\n"
   ]
  },
  {
   "cell_type": "code",
   "execution_count": 15,
   "metadata": {},
   "outputs": [
    {
     "name": "stdout",
     "output_type": "stream",
     "text": [
      "['Dmytro\\n', 'Roman\\n', 'Oleh']\n"
     ]
    }
   ],
   "source": [
    "#fh = open('test.txt', 'w')\n",
    "#fh.write('first line\\nsecond line\\nthird line')\n",
    "#fh.close()\n",
    "\n",
    "fh = open('test.txt', 'r')\n",
    "lines = fh.readlines()\n",
    "print(lines)\n",
    "\n",
    "fh.close()\n"
   ]
  },
  {
   "cell_type": "code",
   "execution_count": 19,
   "metadata": {},
   "outputs": [
    {
     "name": "stdout",
     "output_type": "stream",
     "text": [
      "qwert001\n"
     ]
    }
   ],
   "source": [
    "fh = open('test.txt', 'w+')\n",
    "fh.write('qwert1627@gggg.ua;qwert001')\n",
    "\n",
    "fh.seek(18)\n",
    "second = fh.read(8)\n",
    "print(second)  # 'e'\n",
    "\n",
    "fh.close()\n"
   ]
  },
  {
   "cell_type": "code",
   "execution_count": 22,
   "metadata": {},
   "outputs": [
    {
     "name": "stdout",
     "output_type": "stream",
     "text": [
      "6\n",
      "1\n",
      "3\n",
      "not error\n"
     ]
    }
   ],
   "source": [
    "fh = open('test.txt', 'w+')\n",
    "try:\n",
    "    fh.write('hello!')\n",
    "    position = fh.tell()\n",
    "    print(position) # 6\n",
    "\n",
    "    fh.seek(1)\n",
    "    position = fh.tell()\n",
    "    print(position) # 1\n",
    "\n",
    "    fh.read(2)\n",
    "    position = fh.tell()\n",
    "    print(position) # 3\n",
    "except:\n",
    "    print('error')\n",
    "\n",
    "else:\n",
    "    print('not error')\n",
    "   \n",
    "finally:\n",
    "    fh.close()\n",
    "    \n",
    "\n"
   ]
  },
  {
   "cell_type": "code",
   "execution_count": 24,
   "metadata": {},
   "outputs": [
    {
     "name": "stdout",
     "output_type": "stream",
     "text": [
      "6\n",
      "1\n",
      "3\n"
     ]
    }
   ],
   "source": [
    "with open('test.txt', 'w+') as f:\n",
    "    f.write('hello!')\n",
    "    position = f.tell()\n",
    "    print(position) # 6\n",
    "\n",
    "    f.seek(1)\n",
    "    position = f.tell()\n",
    "    print(position) # 1\n",
    "\n",
    "    f.read(2)\n",
    "    position = f.tell()\n",
    "    print(position) # 3"
   ]
  },
  {
   "cell_type": "code",
   "execution_count": 25,
   "metadata": {},
   "outputs": [
    {
     "name": "stdout",
     "output_type": "stream",
     "text": [
      "6\n",
      "1\n",
      "3\n"
     ]
    }
   ],
   "source": [
    "f = open('test.txt', 'w+') \n",
    "f.write('hello!')\n",
    "position = f.tell()\n",
    "print(position) # 6\n",
    "\n",
    "f.seek(1)\n",
    "position = f.tell()\n",
    "print(position) # 1\n",
    "\n",
    "f.read(2)\n",
    "position = f.tell()\n",
    "print(position) # 3"
   ]
  }
 ],
 "metadata": {
  "interpreter": {
   "hash": "38740d3277777e2cd7c6c2cc9d8addf5118fdf3f82b1b39231fd12aeac8aee8b"
  },
  "kernelspec": {
   "display_name": "Python 3.10.0 64-bit",
   "language": "python",
   "name": "python3"
  },
  "language_info": {
   "codemirror_mode": {
    "name": "ipython",
    "version": 3
   },
   "file_extension": ".py",
   "mimetype": "text/x-python",
   "name": "python",
   "nbconvert_exporter": "python",
   "pygments_lexer": "ipython3",
   "version": "3.8.10"
  },
  "orig_nbformat": 4
 },
 "nbformat": 4,
 "nbformat_minor": 2
}
