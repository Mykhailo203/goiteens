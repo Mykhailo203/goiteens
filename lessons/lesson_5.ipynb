{
 "cells": [
  {
   "cell_type": "code",
   "execution_count": 1,
   "metadata": {},
   "outputs": [
    {
     "data": {
      "text/plain": [
       "True"
      ]
     },
     "execution_count": 1,
     "metadata": {},
     "output_type": "execute_result"
    }
   ],
   "source": [
    "this_is_string = \"Hi there!\"\n",
    " \n",
    "the_same_string = 'Hi there!'\n",
    " \n",
    "this_is_string == the_same_string  # True"
   ]
  },
  {
   "cell_type": "code",
   "execution_count": 1,
   "metadata": {},
   "outputs": [
    {
     "name": "stdout",
     "output_type": "stream",
     "text": [
      "Jingle bells, jingle bells\n",
      "Jingle all the way\n",
      "Oh, what fun it is to ride\n",
      "In a one horse open sleigh\n"
     ]
    }
   ],
   "source": [
    "text = \"\"\"This is first line\n",
    "And second line\n",
    "Last third line\"\"\"\n",
    " \n",
    "song = '''Jingle bells, jingle bells\n",
    "Jingle all the way\n",
    "Oh, what fun it is to ride\n",
    "In a one horse open sleigh'''\n",
    "\n",
    "print(song)"
   ]
  },
  {
   "cell_type": "code",
   "execution_count": 2,
   "metadata": {},
   "outputs": [
    {
     "name": "stdout",
     "output_type": "stream",
     "text": [
      "Textual data in Python is handled with str objects, or strings. Strings are immutable sequences of Unicode code points. String literals are written in a variety of ways.\n"
     ]
    }
   ],
   "source": [
    "one_line_text = \"Textual data in Python is handled with str objects, or strings. \"\\\n",
    "            \t\"Strings are immutable sequences of Unicode code points. \"\\\n",
    "            \t\"String literals are written in a variety of ways.\"\n",
    "print(one_line_text)\n"
   ]
  },
  {
   "cell_type": "code",
   "execution_count": 4,
   "metadata": {},
   "outputs": [
    {
     "name": "stdout",
     "output_type": "stream",
     "text": [
      "13\n",
      "[12, 11]\n"
     ]
    }
   ],
   "source": [
    "# an integer to a string\n",
    "pupils_count = 13\n",
    "s = str(pupils_count)\n",
    "print(s)\n",
    " \n",
    " \n",
    "# a list to a string\n",
    "s = str([12, 11])\n",
    "print(s)"
   ]
  },
  {
   "cell_type": "code",
   "execution_count": 7,
   "metadata": {},
   "outputs": [
    {
     "data": {
      "text/plain": [
       "'H'"
      ]
     },
     "execution_count": 7,
     "metadata": {},
     "output_type": "execute_result"
    }
   ],
   "source": [
    "mes = 'Hello'\n",
    "\n",
    "mes[0]\n",
    "\n"
   ]
  },
  {
   "cell_type": "code",
   "execution_count": 8,
   "metadata": {},
   "outputs": [
    {
     "ename": "IndexError",
     "evalue": "string index out of range",
     "output_type": "error",
     "traceback": [
      "\u001b[1;31m---------------------------------------------------------------------------\u001b[0m",
      "\u001b[1;31mIndexError\u001b[0m                                Traceback (most recent call last)",
      "\u001b[1;32m~\\AppData\\Local\\Temp/ipykernel_4468/985126927.py\u001b[0m in \u001b[0;36m<module>\u001b[1;34m\u001b[0m\n\u001b[0;32m      1\u001b[0m \u001b[0mmes\u001b[0m \u001b[1;33m=\u001b[0m \u001b[1;34m'Hello'\u001b[0m\u001b[1;33m\u001b[0m\u001b[1;33m\u001b[0m\u001b[0m\n\u001b[0;32m      2\u001b[0m \u001b[1;33m\u001b[0m\u001b[0m\n\u001b[1;32m----> 3\u001b[1;33m \u001b[0mmes\u001b[0m\u001b[1;33m[\u001b[0m\u001b[1;36m20\u001b[0m\u001b[1;33m]\u001b[0m\u001b[1;33m\u001b[0m\u001b[1;33m\u001b[0m\u001b[0m\n\u001b[0m",
      "\u001b[1;31mIndexError\u001b[0m: string index out of range"
     ]
    }
   ],
   "source": [
    "mes = 'Hello'\n",
    "\n",
    "mes[20]\n"
   ]
  },
  {
   "cell_type": "code",
   "execution_count": 11,
   "metadata": {},
   "outputs": [
    {
     "data": {
      "text/plain": [
       "'Hl'"
      ]
     },
     "execution_count": 11,
     "metadata": {},
     "output_type": "execute_result"
    }
   ],
   "source": [
    "mes = 'Hello'\n",
    "\n",
    "mes[0] + mes[2]\n"
   ]
  },
  {
   "cell_type": "code",
   "execution_count": 12,
   "metadata": {},
   "outputs": [
    {
     "data": {
      "text/plain": [
       "'o'"
      ]
     },
     "execution_count": 12,
     "metadata": {},
     "output_type": "execute_result"
    }
   ],
   "source": [
    "mes = 'Hello'\n",
    "\n",
    "mes[-1]\n"
   ]
  },
  {
   "cell_type": "code",
   "execution_count": 15,
   "metadata": {},
   "outputs": [
    {
     "name": "stdout",
     "output_type": "stream",
     "text": [
      "M\n",
      "P\n"
     ]
    }
   ],
   "source": [
    "pip = 'Mykhailo Pyatnytskyy'\n",
    "first_name_start = pip[0]\n",
    "last_name_start = pip[-11]\n",
    " \n",
    "print(first_name_start)\n",
    "print(last_name_start)\n",
    " \n",
    "if first_name_start == last_name_start :\n",
    "\tprint('first name and last name strts with', first_name_start)"
   ]
  },
  {
   "cell_type": "code",
   "execution_count": 25,
   "metadata": {},
   "outputs": [
    {
     "data": {
      "text/plain": [
       "'bdf'"
      ]
     },
     "execution_count": 25,
     "metadata": {},
     "output_type": "execute_result"
    }
   ],
   "source": [
    "s = 'abcdefghijk'\n",
    "s[3:6]\n",
    "\n",
    "\n",
    "s[:6]\n",
    "\n",
    "\n",
    "s[3:]\n",
    "\n",
    "\n",
    "s[::-2]\n",
    "\n",
    "s[1:6:2]\n",
    "#s[-3:]\n",
    "#s[:-5]\n",
    "#s[-1:-6:-2]"
   ]
  },
  {
   "cell_type": "code",
   "execution_count": 26,
   "metadata": {},
   "outputs": [
    {
     "ename": "TypeError",
     "evalue": "'str' object does not support item assignment",
     "output_type": "error",
     "traceback": [
      "\u001b[1;31m---------------------------------------------------------------------------\u001b[0m",
      "\u001b[1;31mTypeError\u001b[0m                                 Traceback (most recent call last)",
      "\u001b[1;32m~\\AppData\\Local\\Temp/ipykernel_4468/387071077.py\u001b[0m in \u001b[0;36m<module>\u001b[1;34m\u001b[0m\n\u001b[0;32m      1\u001b[0m \u001b[0mS\u001b[0m \u001b[1;33m=\u001b[0m \u001b[1;34m'Hello, World!'\u001b[0m\u001b[1;33m\u001b[0m\u001b[1;33m\u001b[0m\u001b[0m\n\u001b[1;32m----> 2\u001b[1;33m \u001b[0mS\u001b[0m\u001b[1;33m[\u001b[0m\u001b[1;36m0\u001b[0m\u001b[1;33m]\u001b[0m \u001b[1;33m=\u001b[0m \u001b[1;34m'RRRR'\u001b[0m\u001b[1;33m\u001b[0m\u001b[1;33m\u001b[0m\u001b[0m\n\u001b[0m",
      "\u001b[1;31mTypeError\u001b[0m: 'str' object does not support item assignment"
     ]
    }
   ],
   "source": [
    "S = 'Hello, World!'\n",
    "S[0] = 'RRRR'"
   ]
  },
  {
   "cell_type": "code",
   "execution_count": 27,
   "metadata": {},
   "outputs": [
    {
     "name": "stdout",
     "output_type": "stream",
     "text": [
      "Hello, World!!\n"
     ]
    }
   ],
   "source": [
    "S = 'Hello,' + ' World' + \"!\"\n",
    "print(S)\n",
    "# Hello, World!"
   ]
  },
  {
   "cell_type": "code",
   "execution_count": 29,
   "metadata": {},
   "outputs": [
    {
     "name": "stdout",
     "output_type": "stream",
     "text": [
      "-------------------------\n",
      "abcabcabc\n",
      "-------------------------\n"
     ]
    }
   ],
   "source": [
    "delimiter = '-' * 25\n",
    "print(delimiter)\n",
    " \n",
    "s = 'abc' * 3\n",
    "print(s)\n",
    "print(delimiter)"
   ]
  },
  {
   "cell_type": "code",
   "execution_count": 32,
   "metadata": {},
   "outputs": [
    {
     "name": "stdout",
     "output_type": "stream",
     "text": [
      "\tMykhailo\t Pyatnytskyy\n",
      "\n"
     ]
    }
   ],
   "source": [
    "fio = '\\tMykhailo\\t Pyatnytskyy\\n'\n",
    "print(fio)"
   ]
  },
  {
   "cell_type": "code",
   "execution_count": 36,
   "metadata": {},
   "outputs": [
    {
     "name": "stdout",
     "output_type": "stream",
     "text": [
      "д'Артаньян\n",
      "Avtor says:\"cytata\"\n"
     ]
    },
    {
     "data": {
      "text/plain": [
       "10"
      ]
     },
     "execution_count": 36,
     "metadata": {},
     "output_type": "execute_result"
    }
   ],
   "source": [
    "name = 'д\\'Артаньян'\n",
    "print(name)\n",
    "\n",
    "cytata = \"Avtor says:\\\"cytata\\\"\"\n",
    "\n",
    "print(cytata)\n",
    "\n",
    "len(name)"
   ]
  },
  {
   "cell_type": "code",
   "execution_count": 46,
   "metadata": {},
   "outputs": [
    {
     "data": {
      "text/plain": [
       "5"
      ]
     },
     "execution_count": 46,
     "metadata": {},
     "output_type": "execute_result"
    }
   ],
   "source": [
    "name = 'д\\'Артаньян'\n",
    "\n",
    "\n",
    "mask = 'ан'\n",
    "\n",
    "\n",
    "name.find(mask)"
   ]
  },
  {
   "cell_type": "code",
   "execution_count": 49,
   "metadata": {},
   "outputs": [
    {
     "data": {
      "text/plain": [
       "-1"
      ]
     },
     "execution_count": 49,
     "metadata": {},
     "output_type": "execute_result"
    }
   ],
   "source": [
    "name = 'д\\'Артаньян'\n",
    "\n",
    "\n",
    "mask = 'ан'\n",
    "\n",
    "\n",
    "name.find(mask, 2, 4)"
   ]
  },
  {
   "cell_type": "code",
   "execution_count": 51,
   "metadata": {},
   "outputs": [
    {
     "data": {
      "text/plain": [
       "0"
      ]
     },
     "execution_count": 51,
     "metadata": {},
     "output_type": "execute_result"
    }
   ],
   "source": [
    "name = 'д\\'Артаньян'\n",
    "\n",
    "\n",
    "mask = 'hbhb'\n",
    "\n",
    "\n",
    "name.find(mask)\n",
    "\n",
    "name.count(mask)"
   ]
  },
  {
   "cell_type": "code",
   "execution_count": 1,
   "metadata": {},
   "outputs": [
    {
     "name": "stdout",
     "output_type": "stream",
     "text": [
      "13\n"
     ]
    }
   ],
   "source": [
    "S = 'Hello, World!'\n",
    "\n",
    "print(len(S))\n",
    "\n",
    "#рахує довжину строки"
   ]
  },
  {
   "cell_type": "code",
   "execution_count": 2,
   "metadata": {},
   "outputs": [
    {
     "name": "stdout",
     "output_type": "stream",
     "text": [
      "13\n"
     ]
    }
   ],
   "source": [
    "S = 'Hello, World!'\n",
    "\n",
    "a = len(S)\n",
    "\n",
    "print(a)"
   ]
  },
  {
   "cell_type": "code",
   "execution_count": 3,
   "metadata": {},
   "outputs": [
    {
     "name": "stdout",
     "output_type": "stream",
     "text": [
      "first name: Mykhailo\n",
      "Last name: Pyatnytskyy\n"
     ]
    }
   ],
   "source": [
    "fio = input('Enter fio:')\n",
    "\n",
    "fio_list = fio.split()\n",
    "\n",
    "print('first name:', fio_list[0])\n",
    "print('Last name:', fio_list[1])\n",
    "\n",
    "#Зчитує значення через пробіл"
   ]
  },
  {
   "cell_type": "code",
   "execution_count": 5,
   "metadata": {},
   "outputs": [
    {
     "name": "stdout",
     "output_type": "stream",
     "text": [
      "['wdwefe', 'wefre5ty', 'sgth', 'ferg', 'rg']\n",
      "5\n"
     ]
    }
   ],
   "source": [
    "s = input().split()\n",
    "print(s)\n",
    "print(len(s))"
   ]
  },
  {
   "cell_type": "code",
   "execution_count": 6,
   "metadata": {},
   "outputs": [
    {
     "name": "stdout",
     "output_type": "stream",
     "text": [
      "['erghtyuj']\n",
      "1\n"
     ]
    }
   ],
   "source": [
    "s = input().split()\n",
    "print(s)\n",
    "print(len(s))"
   ]
  },
  {
   "cell_type": "code",
   "execution_count": 7,
   "metadata": {},
   "outputs": [
    {
     "name": "stdout",
     "output_type": "stream",
     "text": [
      "mysql;12.0.0.1;root;userpassw\n"
     ]
    }
   ],
   "source": [
    "parametrs = ['mysql', '12.0.0.1', 'root', 'userpassw']\n",
    "\n",
    "\n",
    "connection_string = ';'.join(parametrs)\n",
    "\n",
    "print(connection_string)\n",
    "\n",
    "#замість пробілів ставить роздільник який ви вкажете"
   ]
  },
  {
   "cell_type": "code",
   "execution_count": 9,
   "metadata": {},
   "outputs": [
    {
     "name": "stdout",
     "output_type": "stream",
     "text": [
      "mysql ~ 12.0.0.1 ~ root ~ userpassw\n"
     ]
    }
   ],
   "source": [
    "parametrs = ['mysql', '12.0.0.1', 'root', 'userpassw']\n",
    "\n",
    "\n",
    "connection_string = ' ~ '.join(parametrs)\n",
    "\n",
    "print(connection_string)\n"
   ]
  },
  {
   "cell_type": "code",
   "execution_count": 11,
   "metadata": {},
   "outputs": [
    {
     "name": "stdout",
     "output_type": "stream",
     "text": [
      "hello, world! fffffff\n"
     ]
    }
   ],
   "source": [
    "S = 'Hello, World! FFFFFFF'\n",
    "print(S.lower())\n",
    "# Prints hello, world!\n",
    "#великі літери стають малими"
   ]
  },
  {
   "cell_type": "code",
   "execution_count": 13,
   "metadata": {},
   "outputs": [
    {
     "name": "stdout",
     "output_type": "stream",
     "text": [
      "HELLO, WORLD! FFFFFF\n"
     ]
    }
   ],
   "source": [
    "S = 'Hello, World! ffffff'\n",
    "print(S.upper())\n",
    "# Prints HELLO, WORLD!"
   ]
  },
  {
   "cell_type": "code",
   "execution_count": 14,
   "metadata": {},
   "outputs": [
    {
     "name": "stdout",
     "output_type": "stream",
     "text": [
      "Helloffffffffffffffff, world!\n"
     ]
    }
   ],
   "source": [
    "S = 'HellofffffffFFFFFFFFF, World!'\n",
    "print(S.capitalize())\n",
    "# Prints Hello, world!\n",
    "#Велика тільки перша літера, інші меленькі"
   ]
  },
  {
   "cell_type": "code",
   "execution_count": 15,
   "metadata": {},
   "outputs": [
    {
     "name": "stdout",
     "output_type": "stream",
     "text": [
      "hELLO, wORLD!\n"
     ]
    }
   ],
   "source": [
    "S = 'Hello, World!'\n",
    "print(S.swapcase())\n",
    "# Prints hELLO, wORLD!\n",
    "\n",
    "#Змінює великі на малі, малі на великі"
   ]
  },
  {
   "cell_type": "code",
   "execution_count": 18,
   "metadata": {},
   "outputs": [
    {
     "name": "stdout",
     "output_type": "stream",
     "text": [
      "Hello, World! Mykhailo Аaaa Tttt\n"
     ]
    }
   ],
   "source": [
    "S = 'hello, world! mykhailo Аaaa tTTT'\n",
    "print(S.title())\n",
    "# Prints Hello, World!\n",
    "#Кожне слово з великої літери"
   ]
  },
  {
   "cell_type": "code",
   "execution_count": 25,
   "metadata": {},
   "outputs": [
    {
     "name": "stdout",
     "output_type": "stream",
     "text": [
      "this is spam\n"
     ]
    }
   ],
   "source": [
    "adv_words = ['купити', 'продати', 'реклама']\n",
    "letter_text = input('enter letter:')\n",
    "\n",
    "#is_spam = False\n",
    "\n",
    "for stop_word in adv_words :\n",
    "    if letter_text.find(stop_word) > 0:\n",
    "        #is_spam = True\n",
    "        print('this is spam')\n",
    "        break\n",
    "    else:\n",
    "        print('this is not spam')\n"
   ]
  },
  {
   "cell_type": "code",
   "execution_count": 27,
   "metadata": {},
   "outputs": [
    {
     "name": "stdout",
     "output_type": "stream",
     "text": [
      "Mykhailo 90  iu 4\n"
     ]
    }
   ],
   "source": [
    "map = {\n",
    "    ord('1'): '',\n",
    "     ord('ю'): 'iu',\n",
    "     ord('5'): '~'}\n",
    "translated = 'Mykhailo 90 1 ю 4'\n",
    "translated = translated.translate(map)\n",
    "print(translated) # zu"
   ]
  },
  {
   "cell_type": "code",
   "execution_count": 28,
   "metadata": {},
   "outputs": [
    {
     "name": "stdout",
     "output_type": "stream",
     "text": [
      "Мене звати Олег. Мені 14 років.\n"
     ]
    }
   ],
   "source": [
    "# f-String Formatter\n",
    "name = 'Олег'\n",
    "age = 14\n",
    "S = f\"Мене звати {name}. Мені {age} років.\"\n",
    "print(S)"
   ]
  },
  {
   "cell_type": "code",
   "execution_count": 31,
   "metadata": {},
   "outputs": [
    {
     "name": "stdout",
     "output_type": "stream",
     "text": [
      "Мене звати Олег. Мені 16 років.\n"
     ]
    }
   ],
   "source": [
    "# printf-style % string formatting\n",
    "S = 'Мене звати %s. Мені %s років.' % ('Олег', 14+2)\n",
    "print(S)\n",
    "\n",
    "# %s це строкове значення(str), a %d цілочисельний тип данних(int)"
   ]
  },
  {
   "cell_type": "code",
   "execution_count": 32,
   "metadata": {},
   "outputs": [
    {
     "name": "stdout",
     "output_type": "stream",
     "text": [
      "Мене звати Олег. Мені 14 років.\n"
     ]
    }
   ],
   "source": [
    "# format() Built-in Method\n",
    "S = 'Мене звати {1}. Мені {0} років.'.format(14, 'Олег')\n",
    "print(S)"
   ]
  },
  {
   "cell_type": "code",
   "execution_count": 35,
   "metadata": {},
   "outputs": [
    {
     "name": "stdout",
     "output_type": "stream",
     "text": [
      "|left      |  center  |     right|\n"
     ]
    }
   ],
   "source": [
    "print(\"|{:<10}|{:^10}|{:>10}|\".format('left', 'center', 'right'))"
   ]
  },
  {
   "cell_type": "code",
   "execution_count": 36,
   "metadata": {},
   "outputs": [
    {
     "name": "stdout",
     "output_type": "stream",
     "text": [
      "|left      |**center**|     right|\n"
     ]
    }
   ],
   "source": [
    "print(\"|{:<10}|{:*^10}|{:>10}|\".format('left', 'center', 'right'))"
   ]
  },
  {
   "cell_type": "code",
   "execution_count": 38,
   "metadata": {},
   "outputs": [
    {
     "name": "stdout",
     "output_type": "stream",
     "text": [
      "|left++++++|  center  |~~~~~right|\n"
     ]
    }
   ],
   "source": [
    "print(\"|{:+<10}|{:^10}|{:~>10}|\".format('left', 'center', 'right'))"
   ]
  },
  {
   "cell_type": "code",
   "execution_count": 44,
   "metadata": {},
   "outputs": [
    {
     "name": "stdout",
     "output_type": "stream",
     "text": [
      "--------------------------------------------------------------------------------\n",
      "|  №  |Товар                                   |       кількіть|       вартість|\n",
      "--------------------------------------------------------------------------------\n",
      "|  1  |Апельсин                                |              6|            150|\n",
      "|  2  |Лимон                                   |              8|             90|\n",
      "|  3  |Картопля                                |            123|            445|\n",
      "--------------------------------------------------------------------------------\n",
      "| Продано всього                                               |            685|\n",
      "--------------------------------------------------------------------------------\n"
     ]
    }
   ],
   "source": [
    "delimiter = '-' * 80\n",
    "goods = [['Апельсин', 6, 150], ['Лимон', 8, 90], ['Картопля', 123, 445]]\n",
    " \n",
    "total_sum = 0\n",
    "number = 0\n",
    " \n",
    "print(delimiter)\n",
    "print(\"|{:^5}|{:<40}|{:>15}|{:>15}|\".format('№', 'Товар', 'кількіть', 'вартість'))\n",
    "print(delimiter)\n",
    " \n",
    "for good in goods :\n",
    "    name = good[0]\n",
    "    count = good[1]\n",
    "    money = good[2]\n",
    "    number += 1;\n",
    "    total_sum += money\n",
    "    print(\"|{:^5}|{:<40}|{:>15}|{:>15}|\".format(number, name, count, money))\n",
    " \n",
    "print(delimiter)\n",
    "print(\"|{:<62}|{:>15}|\".format(' Продано всього', total_sum))\n",
    "print(delimiter)\n"
   ]
  }
 ],
 "metadata": {
  "interpreter": {
   "hash": "f23faf4bfe871c203c8bec80520af5927fc7cb1ae3bd834ddf554ee587ad1c05"
  },
  "kernelspec": {
   "display_name": "Python 3.8.10 64-bit",
   "language": "python",
   "name": "python3"
  },
  "language_info": {
   "codemirror_mode": {
    "name": "ipython",
    "version": 3
   },
   "file_extension": ".py",
   "mimetype": "text/x-python",
   "name": "python",
   "nbconvert_exporter": "python",
   "pygments_lexer": "ipython3",
   "version": "3.8.10"
  },
  "orig_nbformat": 4
 },
 "nbformat": 4,
 "nbformat_minor": 2
}
