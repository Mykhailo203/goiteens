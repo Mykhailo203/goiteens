{
 "cells": [
  {
   "cell_type": "code",
   "execution_count": 15,
   "metadata": {},
   "outputs": [
    {
     "name": "stdout",
     "output_type": "stream",
     "text": [
      "Hello! I am Bill\n",
      "0\n",
      "Hello! I am Jill\n",
      "20\n"
     ]
    }
   ],
   "source": [
    "class Human:\n",
    "    def __init__(self, name, age=0):\n",
    "        self.name = name\n",
    "        self.age = age\n",
    "\n",
    "    def say_hello(self):\n",
    "        return f'Hello! I am {self.name}'\n",
    "\n",
    "\n",
    "bill = Human('Bill')\n",
    "print(bill.say_hello())  # Hello! I am Bill\n",
    "print(bill.age)          # 0\n",
    "\n",
    "jill = Human('Jill', 20)\n",
    "print(jill.say_hello())  # Hello! I am Jill\n",
    "print(jill.age)          # 20"
   ]
  },
  {
   "cell_type": "code",
   "execution_count": 1,
   "metadata": {},
   "outputs": [
    {
     "data": {
      "text/plain": [
       "[1, 2]"
      ]
     },
     "execution_count": 1,
     "metadata": {},
     "output_type": "execute_result"
    }
   ],
   "source": [
    "l = [1, 2]\n",
    "l "
   ]
  },
  {
   "cell_type": "code",
   "execution_count": 4,
   "metadata": {},
   "outputs": [
    {
     "name": "stdout",
     "output_type": "stream",
     "text": [
      "Point (coord x:1, y:9)\n",
      "Point 1\n"
     ]
    }
   ],
   "source": [
    "class Point:\n",
    "    def __init__(self, x, y):\n",
    "        self.x = x\n",
    "        self.y = y\n",
    "\n",
    "    def __repr__(self):\n",
    "        return f'Point (coord x:{self.x}, y:{self.y})'\n",
    "\n",
    "    def __str__(self) -> str:\n",
    "        return f'Point {self.x}'\n",
    "\n",
    "\n",
    "a = Point(1, 9)\n",
    "print(repr(a))\n",
    "print(str(a))"
   ]
  },
  {
   "cell_type": "code",
   "execution_count": null,
   "metadata": {},
   "outputs": [],
   "source": [
    "class Human:\n",
    "    def __init__(self, name, age=0):\n",
    "        self.name = name\n",
    "        self.age = age\n",
    "\n",
    "    def __str__(self):\n",
    "        return f'Hello! I am {self.name}'\n",
    "\n",
    "\n",
    "bill = Human('Bill')\n",
    "bill_str = str(bill)\n",
    "print(bill_str)  # Hello! I am Bill"
   ]
  },
  {
   "cell_type": "code",
   "execution_count": 2,
   "metadata": {},
   "outputs": [
    {
     "name": "stdout",
     "output_type": "stream",
     "text": [
      "a, b\n"
     ]
    }
   ],
   "source": [
    "class ListedValuesDict:\n",
    "    def __init__(self):\n",
    "        self.data = {}\n",
    "\n",
    "    def __setitem__(self, key, value):\n",
    "        if key in self.data:\n",
    "            self.data[key].append(value)\n",
    "        else:\n",
    "            self.data[key] = [value]\n",
    "\n",
    "    def __getitem__(self, key):\n",
    "        result = str(self.data[key][0])\n",
    "        for value in self.data[key][1:]:\n",
    "            result += \", \" + str(value)\n",
    "        return result\n",
    "\n",
    "\n",
    "l_dict = ListedValuesDict()\n",
    "l_dict[1] = 'a'\n",
    "l_dict[1] = 'b'\n",
    "print(l_dict[1])    # a, b"
   ]
  },
  {
   "cell_type": "code",
   "execution_count": 3,
   "metadata": {},
   "outputs": [
    {
     "name": "stdout",
     "output_type": "stream",
     "text": [
      "{1: 'a', 2: 'b', 3: 'c', 4: 'd'}\n",
      "{1: 'a', 2: 'b'}\n"
     ]
    }
   ],
   "source": [
    "from collections import UserDict\n",
    "\n",
    "\n",
    "class MyDict(UserDict):\n",
    "    def __add__(self, other):\n",
    "        self.data.update(other)\n",
    "        return self\n",
    "\n",
    "    def __sub__(self, other):\n",
    "        for key in other:\n",
    "            if key in other:\n",
    "                self.data.pop(key)\n",
    "        return self\n",
    "\n",
    "\n",
    "d1 = MyDict({1: 'a', 2: 'b'})\n",
    "d2 = MyDict({3: 'c', 4: 'd'})\n",
    "\n",
    "d3 = d1 + d2\n",
    "print(d3)   # {1: 'a', 2: 'b', 3: 'c', 4: 'd'}\n",
    "\n",
    "d4 = d3 - d2\n",
    "print(d4)   # {1: 'a', 2: 'b'}"
   ]
  },
  {
   "cell_type": "code",
   "execution_count": 4,
   "metadata": {},
   "outputs": [
    {
     "data": {
      "text/plain": [
       "True"
      ]
     },
     "execution_count": 4,
     "metadata": {},
     "output_type": "execute_result"
    }
   ],
   "source": [
    "class Point:\n",
    "    def __init__(self, x, y):\n",
    "        self.x = x\n",
    "        self.y = y\n",
    "\n",
    "    def __eq__(self, other):\n",
    "        return self.x == other.x and self.y == other.y\n",
    "\n",
    "    def __ne__(self, other):\n",
    "        return self.x != other.x or self.y != other.y\n",
    "\n",
    "    def __lt__(self, other):\n",
    "        return self.x < other.x and self.y < other.y\n",
    "\n",
    "    def __gt__(self, other):\n",
    "        return self.x > other.x and self.y > other.y\n",
    "\n",
    "    def __le__(self, other):\n",
    "        return self.x <= other.x and self.y <= other.y\n",
    "\n",
    "    def __ge__(self, other):\n",
    "        return self.x >= other.x and self.y >= other.y\n",
    "\n",
    "\n",
    "Point(0, 0) == Point(0, 0)  # True\n",
    "Point(0, 0) != Point(0, 0)  # False\n",
    "Point(0, 0) < Point(1, 0)   # False\n",
    "Point(0, 0) > Point(0, 1)   # False\n",
    "Point(0, 2) >= Point(0, 1)  # True\n",
    "Point(0, 0) <= Point(0, 0)  # True"
   ]
  }
 ],
 "metadata": {
  "interpreter": {
   "hash": "f23faf4bfe871c203c8bec80520af5927fc7cb1ae3bd834ddf554ee587ad1c05"
  },
  "kernelspec": {
   "display_name": "Python 3.8.10 64-bit",
   "language": "python",
   "name": "python3"
  },
  "language_info": {
   "codemirror_mode": {
    "name": "ipython",
    "version": 3
   },
   "file_extension": ".py",
   "mimetype": "text/x-python",
   "name": "python",
   "nbconvert_exporter": "python",
   "pygments_lexer": "ipython3",
   "version": "3.8.10"
  },
  "orig_nbformat": 4
 },
 "nbformat": 4,
 "nbformat_minor": 2
}
