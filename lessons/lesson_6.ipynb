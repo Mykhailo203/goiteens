{
 "cells": [
  {
   "cell_type": "code",
   "execution_count": 1,
   "metadata": {},
   "outputs": [
    {
     "name": "stdout",
     "output_type": "stream",
     "text": [
      "set()\n"
     ]
    }
   ],
   "source": [
    "a = set()\n",
    "print(a)    "
   ]
  },
  {
   "cell_type": "code",
   "execution_count": 2,
   "metadata": {},
   "outputs": [
    {
     "name": "stdout",
     "output_type": "stream",
     "text": [
      "{'o', 'l', 'd', 'e', ' ', 'w', 'r', 'h'}\n"
     ]
    }
   ],
   "source": [
    "a = set('hello world')\n",
    "print(a)    "
   ]
  },
  {
   "cell_type": "code",
   "execution_count": 9,
   "metadata": {},
   "outputs": [
    {
     "name": "stdout",
     "output_type": "stream",
     "text": [
      "{'hello world'}\n"
     ]
    }
   ],
   "source": [
    "a = {'hello world'}\n",
    "print(a)    "
   ]
  },
  {
   "cell_type": "code",
   "execution_count": 3,
   "metadata": {},
   "outputs": [
    {
     "name": "stdout",
     "output_type": "stream",
     "text": [
      "{1, 2, 3}\n"
     ]
    }
   ],
   "source": [
    "numbers = {1, 2, 3, 1, 2, 3}\n",
    "print(numbers)    "
   ]
  },
  {
   "cell_type": "code",
   "execution_count": 5,
   "metadata": {},
   "outputs": [
    {
     "name": "stdout",
     "output_type": "stream",
     "text": [
      "{'097', '093', '0063', '066', '067', '068', '099', '050'}\n"
     ]
    }
   ],
   "source": [
    "codes = {'067', '097', '068', '050', '066', '099', '0063', '093'}\n",
    "print(codes)\n"
   ]
  },
  {
   "cell_type": "code",
   "execution_count": 6,
   "metadata": {},
   "outputs": [
    {
     "name": "stdout",
     "output_type": "stream",
     "text": [
      "{1, 2, 3, 4}\n"
     ]
    },
    {
     "data": {
      "text/plain": [
       "'numbers = {1, 2, 3}\\nnumbers.remove(3)\\nprint(numbers)    # {1, 2}\\n\\nnumbers = {1, 2, 3}\\nnumbers.discard(2)\\nprint(numbers)    # {1, 3}'"
      ]
     },
     "execution_count": 6,
     "metadata": {},
     "output_type": "execute_result"
    }
   ],
   "source": [
    "numbers = {1, 2, 3}\n",
    "numbers.add(4)\n",
    "print(numbers)    # {1, 2, 3, 4}\n"
   ]
  },
  {
   "cell_type": "code",
   "execution_count": 7,
   "metadata": {},
   "outputs": [
    {
     "name": "stdout",
     "output_type": "stream",
     "text": [
      "{1, 2, 3}\n"
     ]
    }
   ],
   "source": [
    "numbers = {1, 2, 3}\n",
    "numbers.add(3)\n",
    "print(numbers) "
   ]
  },
  {
   "cell_type": "code",
   "execution_count": 10,
   "metadata": {},
   "outputs": [
    {
     "name": "stdout",
     "output_type": "stream",
     "text": [
      "{1, 2}\n"
     ]
    }
   ],
   "source": [
    "numbers = {1, 2, 3}\n",
    "numbers.remove(3)\n",
    "print(numbers)"
   ]
  },
  {
   "cell_type": "code",
   "execution_count": 11,
   "metadata": {},
   "outputs": [
    {
     "name": "stdout",
     "output_type": "stream",
     "text": [
      "{1, 3}\n"
     ]
    }
   ],
   "source": [
    "numbers = {1, 2, 3}\n",
    "numbers.discard(2)\n",
    "print(numbers)  "
   ]
  },
  {
   "cell_type": "code",
   "execution_count": 12,
   "metadata": {},
   "outputs": [
    {
     "ename": "KeyError",
     "evalue": "100",
     "output_type": "error",
     "traceback": [
      "\u001b[1;31m---------------------------------------------------------------------------\u001b[0m",
      "\u001b[1;31mKeyError\u001b[0m                                  Traceback (most recent call last)",
      "\u001b[1;32m~\\AppData\\Local\\Temp/ipykernel_6620/2451450533.py\u001b[0m in \u001b[0;36m<module>\u001b[1;34m\u001b[0m\n\u001b[0;32m      1\u001b[0m \u001b[0mnumbers\u001b[0m \u001b[1;33m=\u001b[0m \u001b[1;33m{\u001b[0m\u001b[1;36m1\u001b[0m\u001b[1;33m,\u001b[0m \u001b[1;36m2\u001b[0m\u001b[1;33m,\u001b[0m \u001b[1;36m3\u001b[0m\u001b[1;33m}\u001b[0m\u001b[1;33m\u001b[0m\u001b[1;33m\u001b[0m\u001b[0m\n\u001b[1;32m----> 2\u001b[1;33m \u001b[0mnumbers\u001b[0m\u001b[1;33m.\u001b[0m\u001b[0mremove\u001b[0m\u001b[1;33m(\u001b[0m\u001b[1;36m100\u001b[0m\u001b[1;33m)\u001b[0m\u001b[1;33m\u001b[0m\u001b[1;33m\u001b[0m\u001b[0m\n\u001b[0m\u001b[0;32m      3\u001b[0m \u001b[0mprint\u001b[0m\u001b[1;33m(\u001b[0m\u001b[0mnumbers\u001b[0m\u001b[1;33m)\u001b[0m\u001b[1;33m\u001b[0m\u001b[1;33m\u001b[0m\u001b[0m\n",
      "\u001b[1;31mKeyError\u001b[0m: 100"
     ]
    }
   ],
   "source": [
    "numbers = {1, 2, 3}\n",
    "numbers.remove(100)\n",
    "print(numbers)"
   ]
  },
  {
   "cell_type": "code",
   "execution_count": 13,
   "metadata": {},
   "outputs": [
    {
     "name": "stdout",
     "output_type": "stream",
     "text": [
      "{1, 2, 3}\n"
     ]
    }
   ],
   "source": [
    "numbers = {1, 2, 3}\n",
    "numbers.discard(100)\n",
    "print(numbers)  "
   ]
  },
  {
   "cell_type": "code",
   "execution_count": 14,
   "metadata": {},
   "outputs": [
    {
     "name": "stdout",
     "output_type": "stream",
     "text": [
      "{'apple', 'banana', 'cherry'}\n",
      "{'banana', 'plum', 'peach', 'cherry', 'apple'}\n",
      "{'plum', 'peach', 'cherry', 'apple'}\n"
     ]
    }
   ],
   "source": [
    "goods = {\"apple\", \"banana\", \"cherry\"}\n",
    "print(goods)\n",
    "\n",
    "goods.add('plum')\n",
    "goods.add('peach')\n",
    "goods.add('banana')\n",
    "print(goods)\n",
    "\n",
    "#goods.remove('all')\n",
    "#print(goods)\n",
    "\n",
    "if 'all' in goods :\n",
    "    goods.remove('all')\n",
    "else :\n",
    "    goods.discard('all')\n",
    "\n",
    "    \n",
    "goods.remove('banana')\n",
    "print(goods)"
   ]
  },
  {
   "cell_type": "code",
   "execution_count": 15,
   "metadata": {},
   "outputs": [
    {
     "name": "stdout",
     "output_type": "stream",
     "text": [
      "{'h', 'o', 'e', 'l'}\n",
      "{'e', ' ', 'i', 'r', '!', 'h', 't'}\n"
     ]
    }
   ],
   "source": [
    "a = set('hello')\n",
    "print(a)    # {'e', 'h', 'l', 'o'}\n",
    "\n",
    "b = set('hi there!')\n",
    "print(b)    # {'r', ' ', 'i', 'e', '!', 'h', 't'}               "
   ]
  },
  {
   "cell_type": "code",
   "execution_count": 16,
   "metadata": {},
   "outputs": [
    {
     "data": {
      "text/plain": [
       "{' ', '!', 'e', 'h', 'i', 'l', 'o', 'r', 't'}"
      ]
     },
     "execution_count": 16,
     "metadata": {},
     "output_type": "execute_result"
    }
   ],
   "source": [
    "a ^ b   \n",
    "\n",
    "\n",
    "\n",
    "#Виводить тільки те що не є спільним для обох множин"
   ]
  },
  {
   "cell_type": "code",
   "execution_count": 17,
   "metadata": {},
   "outputs": [
    {
     "data": {
      "text/plain": [
       "{'e', 'h'}"
      ]
     },
     "execution_count": 17,
     "metadata": {},
     "output_type": "execute_result"
    }
   ],
   "source": [
    "a & b \n",
    "\n",
    "#Виводить тільки спільне з обох множин"
   ]
  },
  {
   "cell_type": "code",
   "execution_count": 18,
   "metadata": {},
   "outputs": [
    {
     "data": {
      "text/plain": [
       "{' ', '!', 'e', 'h', 'i', 'l', 'o', 'r', 't'}"
      ]
     },
     "execution_count": 18,
     "metadata": {},
     "output_type": "execute_result"
    }
   ],
   "source": [
    "a | b \n",
    "\n",
    "#Обьєднує унікальні значення 2 множин"
   ]
  }
 ],
 "metadata": {
  "interpreter": {
   "hash": "f23faf4bfe871c203c8bec80520af5927fc7cb1ae3bd834ddf554ee587ad1c05"
  },
  "kernelspec": {
   "display_name": "Python 3.8.10 64-bit",
   "language": "python",
   "name": "python3"
  },
  "language_info": {
   "codemirror_mode": {
    "name": "ipython",
    "version": 3
   },
   "file_extension": ".py",
   "mimetype": "text/x-python",
   "name": "python",
   "nbconvert_exporter": "python",
   "pygments_lexer": "ipython3",
   "version": "3.8.10"
  },
  "orig_nbformat": 4
 },
 "nbformat": 4,
 "nbformat_minor": 2
}
