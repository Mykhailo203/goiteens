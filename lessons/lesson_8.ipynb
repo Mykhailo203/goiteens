{
 "cells": [
  {
   "cell_type": "code",
   "execution_count": 7,
   "metadata": {},
   "outputs": [
    {
     "name": "stdout",
     "output_type": "stream",
     "text": [
      "{'AA1111AA': 'Іванов Іван', 'IVANOV': 'Іванов Іван', 'AA0007AA': 'Семенов Андрій', 'AA007AA': 'Іванов Іван', 'AВ1111AВ': 'Вінниця Водоканал', 'AІ1010КК': 'Семенов Андрій', 'AB1111AA': 'Sidorov Sidr', 'BH1111AA': 'Sidorova Olena'}\n",
      "car not found\n"
     ]
    }
   ],
   "source": [
    "transport = {\n",
    "    'AA1111AA': 'Іванов Іван',\n",
    "    'IVANOV'  : 'Іванов Іван',\n",
    "    'AA0007AA': 'Семенов Андрій',\n",
    "    'AA007AA' : 'Іванов Іван',\n",
    "    'AВ1111AВ': 'Вінниця Водоканал',\n",
    "    'AІ1010КК': 'Семенов Андрій',\n",
    "}\n",
    "\n",
    "transport['AB1111AA'] = 'Sidorov Sidr'\n",
    "transport['BH1111AA'] = 'Sidorova Olena'\n",
    "\n",
    "print(transport)\n",
    "\n",
    "'''for number, fio in transport.items():\n",
    "    if number == 'AA0007AA':\n",
    "        print(fio)\n",
    "        break\n",
    "else:\n",
    "        print('car not found')'''\n",
    "\n",
    "\n",
    "car_owner = transport.get('AA0007AA1', False)\n",
    "if car_owner:\n",
    "    print(car_owner)\n",
    "else:\n",
    "        print('car not found')\n",
    "\n",
    "\n",
    "people = dict()\n",
    "\n",
    "for car_number, fio in transport.items():\n",
    "    \n",
    "    is_present = people.get(fio, False)\n",
    "    \n",
    "    if is_present:\n",
    "        #додаємо ще одну машину\n",
    "        car_count = people[fio]\n",
    "        car_count += 1\n",
    "        people[fio] = car_count\n",
    "    else:\n",
    "        people[fio] = 1\n",
    "\n",
    "for fio, car_count in people.items():\n",
    "    if car_count > 1:\n",
    "        print(fio, 'has', car_count, 'cars')"
   ]
  },
  {
   "cell_type": "code",
   "execution_count": 8,
   "metadata": {},
   "outputs": [
    {
     "name": "stdout",
     "output_type": "stream",
     "text": [
      "the max dist is 808 for Ужгород\n"
     ]
    }
   ],
   "source": [
    "cities = {\n",
    "    'Київ'    : 0, \n",
    "    'Вінниця' : 240, \n",
    "    'Харків'  : 470, \n",
    "    'Ужгород' : 808, \n",
    "    'Львів'   : 540, \n",
    "    'Житомир' : 120, \n",
    "    'Одеса'   : 430\n",
    "    }\n",
    "max_distanse = 0\n",
    "city_name_max = ''\n",
    "\n",
    "for city, distanse in cities.items():\n",
    "    if distanse > max_distanse:\n",
    "        city_name_max = city\n",
    "        max_distanse = distanse\n",
    "\n",
    "\n",
    "print('the max dist is', max_distanse, 'for', city_name_max)"
   ]
  },
  {
   "cell_type": "code",
   "execution_count": 14,
   "metadata": {},
   "outputs": [
    {
     "name": "stdout",
     "output_type": "stream",
     "text": [
      "Можлива доставка Новою поштою. Оберіть номер відділення\n"
     ]
    }
   ],
   "source": [
    "post_ukr = {'Київ', 'Фастів', 'Ірпінь', 'Боярка'}\n",
    "post_new = {'Київ', 'Фастів', 'Кагарлик', 'Узин', 'Ірпінь', 'Гатне', 'Боярка', 'Гостомель'}\n",
    "user_city_min_lenth = 3\n",
    "user_city = input()\n",
    "\n",
    "if len(user_city) < user_city_min_lenth: print('Введіть назву міста повністю')\n",
    " \n",
    "else: is_post_ukr = user_city in post_ukr; is_post_new = user_city in post_new;\n",
    "\n",
    "if not (is_post_ukr or is_post_new) : \n",
    "    print('На жаль, доставки в ваше місто немає. Скористайтесь самовивозом.')\n",
    "else:\n",
    "    if is_post_ukr and is_post_new :\n",
    "        print('Обреіть спосіб доставки: 1 - Нова пошта, 2 - Укрпошта.')\n",
    "    elif is_post_ukr :\n",
    "        print('Можлива доставка Укрпоштою. Оберіть номер відділення')\n",
    "    else:\n",
    "        print('Можлива доставка Новою поштою. Оберіть номер відділення')"
   ]
  },
  {
   "cell_type": "code",
   "execution_count": 15,
   "metadata": {},
   "outputs": [
    {
     "name": "stdout",
     "output_type": "stream",
     "text": [
      "Готель \"Берізка\" приймає кількість туристів - 8\n",
      "Готель \"Бриз\" приймає кількість туристів - 5\n",
      "Готель \"Морячка\" приймає кількість туристів - 5\n"
     ]
    }
   ],
   "source": [
    "clients = [\n",
    "    ['Берізка', 'Іванов', 3],\n",
    "    ['Берізка', 'Іванова', 5], \n",
    "    ['Бриз', 'Іванова', 5], \n",
    "    ['Морячка', 'Іванова', 5]\n",
    "]\n",
    "\n",
    "hotels = dict();\n",
    "\n",
    "for voucher in clients :\n",
    "    voucher_hotel = voucher[0]\n",
    "    voucher_persons = voucher[2]\n",
    "    \n",
    "    if hotels.get(voucher_hotel, 0) == 0:\n",
    "        hotels[voucher_hotel] = voucher_persons\n",
    "    else:\n",
    "        hotels_persons = hotels[voucher_hotel]\n",
    "        hotels[voucher_hotel] = hotels_persons + voucher_persons\n",
    "\n",
    "for hotel, persons in hotels.items():\n",
    "        print('Готель \"{}\" приймає кількість туристів - {}'.format(hotel, persons))"
   ]
  }
 ],
 "metadata": {
  "interpreter": {
   "hash": "f23faf4bfe871c203c8bec80520af5927fc7cb1ae3bd834ddf554ee587ad1c05"
  },
  "kernelspec": {
   "display_name": "Python 3.8.10 64-bit",
   "language": "python",
   "name": "python3"
  },
  "language_info": {
   "codemirror_mode": {
    "name": "ipython",
    "version": 3
   },
   "file_extension": ".py",
   "mimetype": "text/x-python",
   "name": "python",
   "nbconvert_exporter": "python",
   "pygments_lexer": "ipython3",
   "version": "3.8.10"
  },
  "orig_nbformat": 4
 },
 "nbformat": 4,
 "nbformat_minor": 2
}
