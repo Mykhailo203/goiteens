{
 "cells": [
  {
   "cell_type": "code",
   "execution_count": 1,
   "metadata": {},
   "outputs": [],
   "source": [
    "class User:\n",
    "    name = 'UserName'\n",
    "    age = 15"
   ]
  },
  {
   "cell_type": "code",
   "execution_count": 6,
   "metadata": {},
   "outputs": [
    {
     "name": "stdout",
     "output_type": "stream",
     "text": [
      "Mykhailo203\n",
      "Mykhailo203\n",
      "TEST\n"
     ]
    }
   ],
   "source": [
    "class User:\n",
    "    login = ''\n",
    "    password = ''\n",
    "    role = 'operator'\n",
    "\n",
    "user1 = User()\n",
    "user1.login = 'Mykhailo203'\n",
    "user1.password = '12345678'\n",
    "print(user1.login)\n",
    "\n",
    "user2 = User()\n",
    "user2.login = 'user_2'\n",
    "user2.password = '876543210'\n",
    "print(user1.login)\n",
    "user1 = user2\n",
    "\n",
    "user2.login = 'TEST'\n",
    "print(user1.login)"
   ]
  },
  {
   "cell_type": "code",
   "execution_count": 8,
   "metadata": {},
   "outputs": [
    {
     "name": "stdout",
     "output_type": "stream",
     "text": [
      "operator\n",
      "Mykhailo203\n",
      "login:  Mykhailo203  role:  operator\n"
     ]
    }
   ],
   "source": [
    "class User:\n",
    "    login = ''\n",
    "    password = ''\n",
    "    role = 'operator'\n",
    "\n",
    "\n",
    "    def set_login(self, login):\n",
    "        self.login = login\n",
    "\n",
    "    def change_password(self, new_password):\n",
    "        self.password = new_password\n",
    "\n",
    "    def get_role(self):\n",
    "        return self.role\n",
    "\n",
    "    def print_info(self):\n",
    "        print('login: ', self.login, ' role: ', self.role)\n",
    "\n",
    "\n",
    "user1 =User()\n",
    "user1.set_login('Mykhailo203')\n",
    "user1.change_password('123456789')\n",
    "\n",
    "print(user1.get_role())\n",
    "print(user1.login)\n",
    "user1.print_info()"
   ]
  },
  {
   "cell_type": "code",
   "execution_count": 2,
   "metadata": {},
   "outputs": [
    {
     "name": "stdout",
     "output_type": "stream",
     "text": [
      "12\n",
      "Mykhailo , VS Code\n"
     ]
    }
   ],
   "source": [
    "class Human:\n",
    "    name = ''\n",
    "    age = 14\n",
    "    def voice(self):\n",
    "        print(f\"Hello! My name is {self.name}\")\n",
    "\n",
    "class Developer(Human):\n",
    "    language = ''\n",
    "    IDE = ''\n",
    "    company = ''\n",
    "\n",
    "class PythonDeveloper(Developer):\n",
    "    python_area = list()\n",
    "    language = 'Python'\n",
    "    def print_developer_info(self):\n",
    "        print(self.name, ',', self.IDE)\n",
    "\n",
    "Pyatnytskyy = PythonDeveloper\n",
    "Pyatnytskyy.IDE = 'VS Code'\n",
    "Pyatnytskyy.age = 12\n",
    "Pyatnytskyy.name = 'Mykhailo'\n",
    "Pyatnytskyy.python_area.append('core')\n",
    "print(Pyatnytskyy.age)\n",
    "Pyatnytskyy.print_developer_info(Pyatnytskyy)"
   ]
  },
  {
   "cell_type": "code",
   "execution_count": 2,
   "metadata": {},
   "outputs": [
    {
     "name": "stdout",
     "output_type": "stream",
     "text": [
      "UserName\n",
      "15\n",
      "John\n",
      "90\n",
      "Test\n"
     ]
    }
   ],
   "source": [
    "class User:\n",
    "    name = 'UserName'\n",
    "    age = 15\n",
    "\n",
    "user1 = User()\n",
    "print(user1.name)   # 'UserName'\n",
    "print(user1.age)    # '15'\n",
    "\n",
    "user2 = User()\n",
    "user2.name = \"John\"\n",
    "user2.age = 90\n",
    "\n",
    "print(user2.name)   # 'Jhon'\n",
    "print(user2.age)    # '90'\n",
    "\n",
    "#user1 = user2\n",
    "#user2.name = 'Test'\n",
    "\n",
    "#print(user1.name)"
   ]
  },
  {
   "cell_type": "code",
   "execution_count": 23,
   "metadata": {},
   "outputs": [
    {
     "name": "stdout",
     "output_type": "stream",
     "text": [
      "Hi! I am Bob and I am 15 years old.\n",
      "Hi! I am Bob and I am 25 years old.\n"
     ]
    }
   ],
   "source": [
    "class User:\n",
    "    name = 'UserName'\n",
    "    age = 15\n",
    "\n",
    "    def say_name(self):\n",
    "        print(f'Hi! I am {self.name} and I am {self.age} years old.')\n",
    "\n",
    "    def set_age(self, age):\n",
    "        self.age = age\n",
    "\n",
    "\n",
    "bob = User()\n",
    "bob.name = 'Bob'\n",
    "\n",
    "bob.say_name()  # Hi! I am Bob and I am 15 years old.\n",
    "\n",
    "bob.set_age(25)\n",
    "bob.say_name()  # Hi! I am Bob and I am 25 years old."
   ]
  },
  {
   "cell_type": "code",
   "execution_count": 24,
   "metadata": {},
   "outputs": [
    {
     "name": "stdout",
     "output_type": "stream",
     "text": [
      "Hello! My name is Bob\n"
     ]
    },
    {
     "data": {
      "text/plain": [
       "'My Programming language is JavaScript'"
      ]
     },
     "execution_count": 24,
     "metadata": {},
     "output_type": "execute_result"
    }
   ],
   "source": [
    "class Human:\n",
    "    name = ''\n",
    "    def voice(self):\n",
    "        print(f\"Hello! My name is {self.name}\")\n",
    "\n",
    "\n",
    "class Developer(Human):\n",
    "    field_description = \"My Programming language\"\n",
    "    language = \"\"\n",
    "    def make_some_code(self):\n",
    "        return f\"{self.field_description} is {self.value}\"\n",
    "\n",
    "\n",
    "class PythonDeveloper(Developer):\n",
    "    value = \"Python\"\n",
    "\n",
    "\n",
    "class JSDeveloper(Developer):\n",
    "    value = \"JavaScript\"\n",
    "\n",
    "\n",
    "p_dev = PythonDeveloper()\n",
    "p_dev.name = 'Bob'\n",
    "p_dev.voice()           # Hello! My name is Bob\n",
    "p_dev.make_some_code()  # My Programming language is Python\n",
    "\n",
    "\n",
    "js_dev = JSDeveloper()\n",
    "js_dev.make_some_code()  # My Programming language is JavaScript"
   ]
  },
  {
   "cell_type": "code",
   "execution_count": 25,
   "metadata": {},
   "outputs": [
    {
     "name": "stdout",
     "output_type": "stream",
     "text": [
      "This exists only in C\n",
      "I exist only in B\n",
      "I am A class\n"
     ]
    }
   ],
   "source": [
    "class A:\n",
    "    x = 'I am A class'\n",
    "\n",
    "\n",
    "class B:\n",
    "    x = 'I am B class'\n",
    "    y = 'I exist only in B'\n",
    "\n",
    "\n",
    "class C(A, B):\n",
    "    z = \"This exists only in C\"\n",
    "\n",
    "\n",
    "c = C()\n",
    "print(c.z)  # This exists only in C\n",
    "print(c.y)  # I exist only in B\n",
    "print(c.x)  # I am A class"
   ]
  },
  {
   "cell_type": "code",
   "execution_count": 26,
   "metadata": {},
   "outputs": [
    {
     "name": "stdout",
     "output_type": "stream",
     "text": [
      "This exists only in C\n",
      "I exist only in B\n",
      "I am B class\n"
     ]
    }
   ],
   "source": [
    "class A:\n",
    "    x = 'I am A class'\n",
    "\n",
    "\n",
    "class B:\n",
    "    x = 'I am B class'\n",
    "    y = 'I exist only in B'\n",
    "\n",
    "\n",
    "class C(B, A):\n",
    "    z = \"This exists only in C\"\n",
    "\n",
    "\n",
    "c = C()\n",
    "print(c.z)  # This exists only in C\n",
    "print(c.y)  # I exist only in B\n",
    "print(c.x)  # I am B class"
   ]
  },
  {
   "cell_type": "code",
   "execution_count": 28,
   "metadata": {},
   "outputs": [
    {
     "data": {
      "text/plain": [
       "False"
      ]
     },
     "execution_count": 28,
     "metadata": {},
     "output_type": "execute_result"
    }
   ],
   "source": [
    "from collections import UserDict\n",
    "\n",
    "\n",
    "class ValueSearchableDict(UserDict):\n",
    "    def has_in_values(self, value):\n",
    "        return value in self.data.values()\n",
    "\n",
    "\n",
    "as_dict = ValueSearchableDict()\n",
    "as_dict['a'] = 1\n",
    "as_dict.has_in_values(1)    # True\n",
    "as_dict.has_in_values(2)    # False"
   ]
  },
  {
   "cell_type": "code",
   "execution_count": 29,
   "metadata": {},
   "outputs": [
    {
     "data": {
      "text/plain": [
       "15"
      ]
     },
     "execution_count": 29,
     "metadata": {},
     "output_type": "execute_result"
    }
   ],
   "source": [
    "from collections import UserList\n",
    "\n",
    "class CountableList(UserList):\n",
    "    def sum(self):\n",
    "        return sum(map(lambda x: int(x), self.data))\n",
    "\n",
    "\n",
    "countable = CountableList([1, '2', 3, '4'])\n",
    "countable.append('5')\n",
    "countable.sum()         # 15"
   ]
  },
  {
   "cell_type": "code",
   "execution_count": 30,
   "metadata": {},
   "outputs": [
    {
     "name": "stdout",
     "output_type": "stream",
     "text": [
      "abcdefg\n"
     ]
    }
   ],
   "source": [
    "from collections import UserString\n",
    "\n",
    "\n",
    "class TruncatedString(UserString):\n",
    "    MAX_LEN = 7\n",
    "    def truncate(self):\n",
    "        self.data = self.data[:self.MAX_LEN]\n",
    "\n",
    "\n",
    "ts = TruncatedString('abcdefghjklmnop')\n",
    "ts.truncate()\n",
    "print(ts)   # abcdefg"
   ]
  },
  {
   "cell_type": "code",
   "execution_count": 31,
   "metadata": {},
   "outputs": [
    {
     "name": "stdout",
     "output_type": "stream",
     "text": [
      "\"a\" is not a number. Try again\n"
     ]
    }
   ],
   "source": [
    "def input_number():\n",
    "    while True:\n",
    "        try:\n",
    "            num = input(\"Enter integer number: \")\n",
    "            return int(num)\n",
    "        except:\n",
    "            print(f'\"{num}\" is not a number. Try again')\n",
    "\n",
    "\n",
    "num = input_number()"
   ]
  },
  {
   "cell_type": "code",
   "execution_count": 32,
   "metadata": {},
   "outputs": [
    {
     "name": "stdout",
     "output_type": "stream",
     "text": [
      "Name is too short, need more than 3 symbols. Try again.\n",
      "Name should start from capital letter. Try again.\n"
     ]
    }
   ],
   "source": [
    "import string\n",
    "\n",
    "\n",
    "class NameTooShortError(Exception):\n",
    "    pass\n",
    "\n",
    "\n",
    "class NameStartsFromLowError(Exception):\n",
    "    pass\n",
    "\n",
    "\n",
    "def enter_name():\n",
    "    name = input(\"Enter name: \")\n",
    "    if len(name) < 3:\n",
    "        raise NameTooShortError\n",
    "    if name[0] not in string.ascii_uppercase:\n",
    "        raise NameStartsFromLowError\n",
    "\n",
    "\n",
    "\n",
    "while True:\n",
    "    try:\n",
    "        name = enter_name()\n",
    "        break\n",
    "    except NameTooShortError:\n",
    "        print('Name is too short, need more than 3 symbols. Try again.')\n",
    "    except NameStartsFromLowError:\n",
    "        print('Name should start from capital letter. Try again.')"
   ]
  },
  {
   "cell_type": "code",
   "execution_count": 33,
   "metadata": {},
   "outputs": [
    {
     "name": "stdout",
     "output_type": "stream",
     "text": [
      "Recorded \"Meow!\"\n",
      "Recorded \"Bark!\"\n",
      "Recorded \"Whooooo!!!\"\n"
     ]
    }
   ],
   "source": [
    "class Mammal:\n",
    "    phrase = ''\n",
    "    def voice(self):\n",
    "        return self.phrase\n",
    "\n",
    "\n",
    "class Dog(Mammal):\n",
    "    phrase = 'Bark!'\n",
    "\n",
    "\n",
    "\n",
    "class Cat(Mammal):\n",
    "    phrase = 'Meow!'\n",
    "\n",
    "\n",
    "class Chupakabra:\n",
    "    def voice(self):\n",
    "        return 'Whooooo!!!'\n",
    "\n",
    "\n",
    "class Recorder:\n",
    "    def record_animal(self, animal):\n",
    "        voice = animal.voice()\n",
    "        print(f'Recorded \"{voice}\"')\n",
    "\n",
    "\n",
    "r = Recorder()\n",
    "cat = Cat()\n",
    "dog = Dog()\n",
    "strange_animal = Chupakabra()\n",
    "\n",
    "r.record_animal(cat)            # Recorded \"Meow!\"\n",
    "r.record_animal(dog)            # Recorded \"Bark!\"\n",
    "r.record_animal(strange_animal) # Recorded \"Whooooo!!!\""
   ]
  },
  {
   "cell_type": "code",
   "execution_count": 1,
   "metadata": {},
   "outputs": [
    {
     "ename": "NameError",
     "evalue": "name 'UserList' is not defined",
     "output_type": "error",
     "traceback": [
      "\u001b[1;31m---------------------------------------------------------------------------\u001b[0m",
      "\u001b[1;31mNameError\u001b[0m                                 Traceback (most recent call last)",
      "\u001b[1;32m~\\AppData\\Local\\Temp/ipykernel_14792/3218208502.py\u001b[0m in \u001b[0;36m<module>\u001b[1;34m\u001b[0m\n\u001b[0;32m     50\u001b[0m \u001b[1;33m\u001b[0m\u001b[0m\n\u001b[0;32m     51\u001b[0m \u001b[1;33m\u001b[0m\u001b[0m\n\u001b[1;32m---> 52\u001b[1;33m \u001b[1;32mclass\u001b[0m \u001b[0mGroup\u001b[0m\u001b[1;33m(\u001b[0m\u001b[0mUserList\u001b[0m\u001b[1;33m)\u001b[0m\u001b[1;33m:\u001b[0m\u001b[1;33m\u001b[0m\u001b[1;33m\u001b[0m\u001b[0m\n\u001b[0m\u001b[0;32m     53\u001b[0m     \u001b[0mtitle\u001b[0m \u001b[1;33m=\u001b[0m \u001b[1;34m''\u001b[0m\u001b[1;33m\u001b[0m\u001b[1;33m\u001b[0m\u001b[0m\n\u001b[0;32m     54\u001b[0m     \u001b[0mcourse\u001b[0m \u001b[1;33m=\u001b[0m \u001b[1;34m''\u001b[0m\u001b[1;33m\u001b[0m\u001b[1;33m\u001b[0m\u001b[0m\n",
      "\u001b[1;31mNameError\u001b[0m: name 'UserList' is not defined"
     ]
    }
   ],
   "source": [
    "from collections import UserString\n",
    "\n",
    "class Human:\n",
    "    first_name = ''\n",
    "    last_name = ''\n",
    "    gender = None\n",
    "\n",
    "    \n",
    "    def set_first_name(self, name_value):\n",
    "        self.first_name = name_value\n",
    "    \n",
    "    \n",
    "    def set_last_name(self, name_value):\n",
    "        self.last_name = name_value\n",
    "    \n",
    "    \n",
    "    def __init__(self, firts_name, last_name, gender):\n",
    "        self.first_name = firts_name\n",
    "        self.last_name = last_name\n",
    "        self.gender = gender\n",
    "\n",
    "\n",
    "    def print_info(self):\n",
    "        print(f'People \"{self.first_name}, {self.last_name}, {self.gender}\"')\n",
    "   \n",
    "\n",
    "class Student(Human):\n",
    "    age = 0\n",
    "    city = ''\n",
    "\n",
    "    def set_age(self, age):\n",
    "        self.age = age\n",
    "    \n",
    "\n",
    "    def set_city(self, city):\n",
    "        self.city = city\n",
    "    \n",
    "    \n",
    "    def __init__(self, firts_name, last_name, gender, city, age):\n",
    "        self.first_name = firts_name\n",
    "        self.last_name = last_name\n",
    "        self.gender = gender\n",
    "\n",
    "        self.age = age\n",
    "        self.city = city\n",
    "\n",
    "    def print_info(self):\n",
    "        print(f'People \"{self.first_name}, {self.last_name}, {self.gender}, {self.city}, {self.age}, \"')\n",
    "\n",
    "\n",
    "\n",
    "class Group(UserList):\n",
    "    title = ''\n",
    "    course = ''\n",
    "    teacher = None\n",
    "    students = list()\n",
    "\n",
    "    def set_course(self, course):\n",
    "        self.course = course\n",
    "    \n",
    "\n",
    "    def set_group(self, group):\n",
    "        self.group = group\n",
    "\n",
    "\n",
    "    def add_student(self, new_student):\n",
    "        self.students.append(new_student)\n",
    "\n",
    "\n",
    "    def remove_student(self, student_name):\n",
    "        pass\n",
    "\n",
    "\n",
    "    def print_students(self):\n",
    "        for s in self.students:\n",
    "            s.print_info()    \n",
    "\n",
    "\n",
    "\n",
    "\n",
    "teacher = Human('Dmytro', 'Kovalyuk', 'male')\n",
    "teacher.first_name = 'Dmytro'\n",
    "teacher.last_name = 'Kovalyuk'\n",
    "teacher.print_info()\n",
    "\n",
    "\n",
    "group = Group()\n",
    "group.set_course('Python Basics')\n",
    "group.set_group('Py_1_1')\n",
    "group.teacher = teacher\n",
    "\n",
    "\n",
    "student = Student('Yaroslav', 'V', 'male', 'Kyiv', 15)\n",
    "group.add_student(student)\n",
    "\n",
    "student = Student('Andriy', 'H', 'male', 'Kyiv', 14)\n",
    "group.add_student(student)\n",
    "\n",
    "student = Student('Yevhen', 'B', 'male', 'Lviv', 14)\n",
    "group.add_student(student)\n",
    "\n",
    "group.print_students"
   ]
  },
  {
   "cell_type": "code",
   "execution_count": 3,
   "metadata": {},
   "outputs": [
    {
     "data": {
      "text/plain": [
       "False"
      ]
     },
     "execution_count": 3,
     "metadata": {},
     "output_type": "execute_result"
    }
   ],
   "source": [
    "from collections import UserDict\n",
    "\n",
    "\n",
    "class ValueSearchableDict(UserDict):\n",
    "    def has_in_values(self, value):\n",
    "        return value in self.data.values()\n",
    "\n",
    "\n",
    "as_dict = ValueSearchableDict()\n",
    "as_dict['a'] = 1\n",
    "as_dict.has_in_values(1)    # True\n",
    "as_dict.has_in_values(2)    # False"
   ]
  },
  {
   "cell_type": "code",
   "execution_count": 5,
   "metadata": {},
   "outputs": [
    {
     "data": {
      "text/plain": [
       "15"
      ]
     },
     "execution_count": 5,
     "metadata": {},
     "output_type": "execute_result"
    }
   ],
   "source": [
    "from collections import UserList\n",
    "\n",
    "class CountableList(UserList):\n",
    "    def sum(self):\n",
    "        return sum(map(lambda x: int(x), self.data))\n",
    "\n",
    "\n",
    "countable = CountableList([1, '2', 3, '4'])\n",
    "countable.append('5')\n",
    "countable.sum()     # 15"
   ]
  },
  {
   "cell_type": "code",
   "execution_count": 1,
   "metadata": {},
   "outputs": [
    {
     "name": "stdout",
     "output_type": "stream",
     "text": [
      "Name:  Ivanov Ivan\n",
      "Name:  Petrov Petya\n",
      "Name:  Petrova Petrovaa\n",
      "Best student:  Petrov rating:  198\n",
      "Student not found\n"
     ]
    }
   ],
   "source": [
    "class Human:\n",
    "    first_name = ''\n",
    "    last_name = ''\n",
    "    gender = None\n",
    "\n",
    "\n",
    "class Student(Human):\n",
    "    age = 0\n",
    "    city = ''\n",
    "    rating = 0\n",
    "    def set_rating(self, new_rating):\n",
    "        self.rating = new_rating\n",
    "        \n",
    "class StudentNotFound(Exception):\n",
    "    error_code = '104'\n",
    "    error_message = 'Student not found'\n",
    "\n",
    "class Group():\n",
    "    title = ''\n",
    "    lang = ''\n",
    "    course = ''\n",
    "    students = list()\n",
    "\n",
    "    def print_students(self):\n",
    "        for curent_student in self.students:\n",
    "            print('Name: ', curent_student.last_name, curent_student.first_name )\n",
    "\n",
    "    def add_student(self, new_student):\n",
    "        self.students.append(new_student)\n",
    "\n",
    "    def get_best_student(self):\n",
    "        best_student = self.students[0]\n",
    "\n",
    "        for current_student in self.students:\n",
    "            if current_student.rating > best_student.rating:\n",
    "                best_student = current_student\n",
    "        return best_student\n",
    "\n",
    "    def find_student(self, last_name, first_name):\n",
    "        for current_student in self.students:\n",
    "            if (current_student.first_name == first_name) and (current_student.last_name == last_name):\n",
    "                return current_student\n",
    "        raise StudentNotFound\n",
    "student_Ivanov = Student()\n",
    "student_Ivanov.age = 17\n",
    "student_Ivanov.rating = 165\n",
    "student_Ivanov.city = 'Kyiv'\n",
    "student_Ivanov.gender = 'nale'\n",
    "student_Ivanov.last_name = 'Ivanov'\n",
    "student_Ivanov.first_name = 'Ivan'\n",
    "\n",
    "student_Petrov = Student()\n",
    "student_Petrov.age = 19\n",
    "student_Petrov.rating = 198\n",
    "student_Petrov.city = 'Lviv'\n",
    "student_Petrov.gender = 'nale'\n",
    "student_Petrov.last_name = 'Petrov'\n",
    "student_Petrov.first_name = 'Petya'\n",
    "\n",
    "\n",
    "student_Petrova = Student()\n",
    "student_Petrova.age = 17\n",
    "student_Petrova.rating = 192\n",
    "student_Petrova.city = 'Lviv'\n",
    "student_Petrova.gender = 'fenale'\n",
    "student_Petrova.last_name = 'Petrova'\n",
    "student_Petrova.first_name = 'Petrovaa'\n",
    "\n",
    "group = Group()\n",
    "group.title = 'UA_Python_1y_2'\n",
    "group.course = 'Python'\n",
    "group.add_student(student_Ivanov)\n",
    "group.add_student(student_Petrov)\n",
    "group.add_student(student_Petrova)\n",
    "\n",
    "\n",
    "group.print_students()\n",
    "\n",
    "top_st = group.get_best_student()\n",
    "print('Best student: ', top_st.last_name, 'rating: ', top_st.rating)\n",
    "\n",
    "try:\n",
    "    search_student = group.find_student('bebeb', 'Ivan')\n",
    "    print(search_student.last_name, ' ', search_student.city)\n",
    "except StudentNotFound as student_err:\n",
    "    print(student_err.error_message)"
   ]
  },
  {
   "cell_type": "code",
   "execution_count": 11,
   "metadata": {},
   "outputs": [
    {
     "name": "stdout",
     "output_type": "stream",
     "text": [
      "\"dferg\" is not a number. Try again\n",
      "\"rfg\" is not a number. Try again\n",
      "\"alkcfdmfjkvngesrioer\" is not a number. Try again\n",
      "\"    \" is not a number. Try again\n",
      "\"            \" is not a number. Try again\n",
      "\"6565656cxfgh+b\" is not a number. Try again\n",
      "\"5552+451\" is not a number. Try again\n",
      "\"26326.5454\" is not a number. Try again\n"
     ]
    }
   ],
   "source": [
    "def input_number():\n",
    "    while True:\n",
    "        try:\n",
    "            num = input(\"Enter integer number: \")\n",
    "            return int(num)\n",
    "        except:\n",
    "            print(f'\"{num}\" is not a number. Try again')\n",
    "\n",
    "\n",
    "num = input_number()"
   ]
  },
  {
   "cell_type": "code",
   "execution_count": 14,
   "metadata": {},
   "outputs": [],
   "source": [
    "import string\n",
    "\n",
    "\n",
    "class NameTooShortError(Exception):\n",
    "    pass\n",
    "\n",
    "\n",
    "class NameStartsFromLowError(Exception):\n",
    "    pass\n",
    "\n",
    "\n",
    "def enter_name():\n",
    "    name = input(\"Enter name: \")\n",
    "    if len(name) < 3:\n",
    "        raise NameTooShortError\n",
    "    if name[0] not in string.ascii_uppercase:\n",
    "        raise NameStartsFromLowError\n",
    "\n",
    "\n",
    "\n",
    "while True:\n",
    "    try:\n",
    "        name = enter_name()\n",
    "        break\n",
    "    except NameTooShortError:\n",
    "        print('Name is too short, need more than 3 symbols. Try again.')\n",
    "    except NameStartsFromLowError:\n",
    "        print('Name should start from capital letter. Try again.')"
   ]
  }
 ],
 "metadata": {
  "interpreter": {
   "hash": "38740d3277777e2cd7c6c2cc9d8addf5118fdf3f82b1b39231fd12aeac8aee8b"
  },
  "kernelspec": {
   "display_name": "Python 3.10.0 64-bit",
   "language": "python",
   "name": "python3"
  },
  "language_info": {
   "codemirror_mode": {
    "name": "ipython",
    "version": 3
   },
   "file_extension": ".py",
   "mimetype": "text/x-python",
   "name": "python",
   "nbconvert_exporter": "python",
   "pygments_lexer": "ipython3",
   "version": "3.8.10"
  },
  "orig_nbformat": 4
 },
 "nbformat": 4,
 "nbformat_minor": 2
}
