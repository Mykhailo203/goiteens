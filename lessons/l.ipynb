{
 "cells": [
  {
   "cell_type": "code",
   "execution_count": 6,
   "metadata": {},
   "outputs": [
    {
     "name": "stdout",
     "output_type": "stream",
     "text": [
      "Andriy\n",
      "Dmytro\n",
      "Oksana\n",
      "all pupils\n"
     ]
    }
   ],
   "source": [
    "class_7g=['Andriy', 'Dmytro', 'Oksana']\n",
    "for pupil in class_7g :\n",
    "    print(pupil)\n",
    "else:\n",
    "    print('all pupils')"
   ]
  },
  {
   "cell_type": "code",
   "execution_count": 10,
   "metadata": {},
   "outputs": [
    {
     "name": "stdout",
     "output_type": "stream",
     "text": [
      "H   e   l   l   o   "
     ]
    }
   ],
   "source": [
    "message = 'Hello'\n",
    "for char in message:\n",
    "    print(char, end='   ')"
   ]
  },
  {
   "cell_type": "code",
   "execution_count": null,
   "metadata": {},
   "outputs": [],
   "source": [
    "i_l = int(input('e'))\n",
    "r_l = int(input('e_r'))\n",
    "suma = range(i_l r_l)"
   ]
  }
 ],
 "metadata": {
  "interpreter": {
   "hash": "f23faf4bfe871c203c8bec80520af5927fc7cb1ae3bd834ddf554ee587ad1c05"
  },
  "kernelspec": {
   "display_name": "Python 3.8.10 64-bit",
   "name": "python3"
  },
  "language_info": {
   "codemirror_mode": {
    "name": "ipython",
    "version": 3
   },
   "file_extension": ".py",
   "mimetype": "text/x-python",
   "name": "python",
   "nbconvert_exporter": "python",
   "pygments_lexer": "ipython3",
   "version": "3.8.10"
  },
  "orig_nbformat": 4
 },
 "nbformat": 4,
 "nbformat_minor": 2
}
