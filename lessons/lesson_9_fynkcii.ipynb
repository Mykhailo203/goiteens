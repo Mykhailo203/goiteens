{
 "cells": [
  {
   "cell_type": "code",
   "execution_count": 1,
   "metadata": {},
   "outputs": [
    {
     "name": "stdout",
     "output_type": "stream",
     "text": [
      "Привет, Мир!\n",
      "Привет, Мир!\n"
     ]
    }
   ],
   "source": [
    "def say_hello():\n",
    "    print('Привет, Мир!')   # блок, принадлежащий функции\n",
    "    # Конец функции say_hello()\n",
    "\n",
    "# вызов функции\n",
    "say_hello()\n",
    "\n",
    "# ещё один вызов функции\n",
    "say_hello()"
   ]
  },
  {
   "cell_type": "code",
   "execution_count": 9,
   "metadata": {},
   "outputs": [
    {
     "name": "stdout",
     "output_type": "stream",
     "text": [
      " Hello World \n",
      " Hello World \n",
      " Hello World \n",
      " Hello World  Misha\n",
      " Hello World  Dmytro\n",
      " Hello World  Kolya\n",
      " Hello World    \n"
     ]
    }
   ],
   "source": [
    "def hello():\n",
    "    print(' Hello World ')\n",
    "\n",
    "def hello_name(name):\n",
    "    print(' Hello World ', name)\n",
    "hello()\n",
    "hello()\n",
    "hello()\n",
    "hello_name('Misha')\n",
    "hello_name('Dmytro')\n",
    "hello_name('Kolya')\n",
    "hello_name('  ')"
   ]
  },
  {
   "cell_type": "code",
   "execution_count": 10,
   "metadata": {},
   "outputs": [
    {
     "name": "stdout",
     "output_type": "stream",
     "text": [
      " Hello World  Misha Pyatnytskyy\n"
     ]
    }
   ],
   "source": [
    "def hello_name(first_name, last_name):\n",
    "    print(' Hello World ', first_name, last_name)\n",
    "hello_name('Misha', 'Pyatnytskyy')\n"
   ]
  },
  {
   "cell_type": "code",
   "execution_count": 11,
   "metadata": {},
   "outputs": [
    {
     "name": "stdout",
     "output_type": "stream",
     "text": [
      "4 максимально\n",
      "7 максимально\n"
     ]
    }
   ],
   "source": [
    "def print_max(a, b):\n",
    "    if a > b:\n",
    "        print(a, 'максимально')\n",
    "    elif a == b:\n",
    "        print(a, 'равно', b)\n",
    "    else:\n",
    "        print(b, 'максимально')\n",
    "\n",
    "print_max(3, 4)  # прямая передача значений\n",
    "\n",
    "x = 5\n",
    "y = 7\n",
    "print_max(x, y)"
   ]
  },
  {
   "cell_type": "code",
   "execution_count": 14,
   "metadata": {},
   "outputs": [
    {
     "name": "stdout",
     "output_type": "stream",
     "text": [
      "40\n"
     ]
    }
   ],
   "source": [
    "def max_of_2(a, b):\n",
    "    result = None\n",
    "    if a > b:\n",
    "        result = a\n",
    "    else:\n",
    "         result = b\n",
    "    return result\n",
    "\n",
    "\n",
    "a=40\n",
    "b=20\n",
    "\n",
    "max_a_b = max_of_2(a, b)\n",
    "print(max_a_b)"
   ]
  },
  {
   "cell_type": "code",
   "execution_count": 17,
   "metadata": {},
   "outputs": [
    {
     "name": "stdout",
     "output_type": "stream",
     "text": [
      "42345\n"
     ]
    }
   ],
   "source": [
    "def max_of_2(number_1, number_2):\n",
    "    result = None\n",
    "    if number_1 > number_2:\n",
    "        result = number_1\n",
    "    else:\n",
    "         result = number_2\n",
    "    return result\n",
    "\n",
    "\n",
    "max_a_b = max_of_2(234, 42345)\n",
    "print(max_a_b)"
   ]
  },
  {
   "cell_type": "code",
   "execution_count": 20,
   "metadata": {},
   "outputs": [
    {
     "name": "stdout",
     "output_type": "stream",
     "text": [
      "42345\n",
      "Max of: 16\n"
     ]
    }
   ],
   "source": [
    "number_3=40\n",
    "number_4=72346\n",
    "\n",
    "def max_of_2(number_1, number_2):\n",
    "    result = None\n",
    "    if number_1 > number_2:\n",
    "        result = number_1\n",
    "    else:\n",
    "         result = number_2\n",
    "    return result\n",
    "\n",
    "\n",
    "max_a_b = max_of_2(234, 42345)\n",
    "print(max_a_b)\n",
    "\n",
    "print('Max of:', max_of_2(12, 16))"
   ]
  },
  {
   "cell_type": "code",
   "execution_count": 22,
   "metadata": {},
   "outputs": [
    {
     "name": "stdout",
     "output_type": "stream",
     "text": [
      "42345\n",
      "Max of: 72346\n",
      "114691\n"
     ]
    }
   ],
   "source": [
    "number_3=40\n",
    "number_4=72346\n",
    "\n",
    "def max_of_2(number_1, number_2):\n",
    "    result = None\n",
    "    if number_1 > number_2:\n",
    "        result = number_1\n",
    "    else:\n",
    "         result = number_2\n",
    "    return result\n",
    "\n",
    "\n",
    "max_a_b = max_of_2(234, 42345)\n",
    "print(max_a_b)\n",
    "\n",
    "print('Max of:', max_of_2(number_3, number_4))\n",
    "\n",
    "result = max_of_2(number_3, number_4) + max_of_2(234, 42345)\n",
    "print(result)"
   ]
  },
  {
   "cell_type": "code",
   "execution_count": null,
   "metadata": {},
   "outputs": [],
   "source": [
    "number_3=40\n",
    "number_4=72346\n",
    "\n",
    "def max_of_2(number_1, number_2):\n",
    "    result = None\n",
    "    if number_1 > number_2:\n",
    "        return number_1\n",
    "    else:\n",
    "         result = b \n",
    "    \n",
    "    return result\n",
    "\n",
    "\n",
    "max_a_b = max_of_2(234, 42345)\n",
    "print(max_a_b)\n",
    "\n",
    "print('Max of:', max_of_2(number_3, number_4))\n",
    "\n",
    "result = max_of_2(number_3, number_4) + max_of_2(234, 42345)\n",
    "print(result)"
   ]
  },
  {
   "cell_type": "code",
   "execution_count": 4,
   "metadata": {},
   "outputs": [
    {
     "name": "stdout",
     "output_type": "stream",
     "text": [
      "54 / 0 = На нуль ділити не можна\n"
     ]
    }
   ],
   "source": [
    "def sum(a, b):\n",
    "    return a + b\n",
    "\n",
    "\n",
    "def sub(a, b):\n",
    "    return a - b\n",
    "\n",
    "def dil(a, b):\n",
    "    error_message = 'На нуль ділити не можна'\n",
    "    if b == 0:\n",
    "        return error_message\n",
    "    else:\n",
    "        return a / b\n",
    "\n",
    "def chek_operation(operation):\n",
    "    return operation in ['+', '-', '/']\n",
    "\n",
    "def calculate(operand_a, operand_b, operation):\n",
    "    result = None\n",
    "\n",
    "    if operation == '+':\n",
    "        result = sum(operand_a, operand_b)\n",
    "    elif operation == '-':\n",
    "        result = sub(operand_a, operand_b)\n",
    "    elif operation == '/':\n",
    "        result = dil(operand_a, operand_b)\n",
    "    print(operand_a, operation, operand_b, '=', result)\n",
    "\n",
    "\n",
    "\n",
    "a, user_input_operation, b = input('Enter:').split()\n",
    "\n",
    "if not chek_operation(user_input_operation):\n",
    "    print('Operation', user_input_operation, 'not supported yet')\n",
    "else:\n",
    "    calculate(int(a), int(b), user_input_operation )\n",
    "    "
   ]
  },
  {
   "cell_type": "code",
   "execution_count": 3,
   "metadata": {},
   "outputs": [
    {
     "name": "stdout",
     "output_type": "stream",
     "text": [
      "50\n",
      "Замена локального x на 50\n",
      "x по-прежнему 50\n"
     ]
    }
   ],
   "source": [
    "x = 50\n",
    "\n",
    "def func():\n",
    "    x = 2\n",
    "    print('Замена локального x на', x) # Замена локального x на 2\n",
    "print(x)\n",
    "func()\n",
    "print('x по-прежнему', x) # x по-прежнему 50"
   ]
  },
  {
   "cell_type": "code",
   "execution_count": 9,
   "metadata": {},
   "outputs": [
    {
     "name": "stdout",
     "output_type": "stream",
     "text": [
      "18\n",
      "18\n",
      "18\n",
      "12\n"
     ]
    }
   ],
   "source": [
    "x = 18\n",
    "\n",
    "def func():\n",
    "    global x\n",
    "    print(x) # x равно 50\n",
    "    x = 12\n",
    "print(x) # Заменяем глобальное значение x на 2\n",
    "\n",
    "print(x)\n",
    "func()\n",
    "print(x) # Значение x составляет 2"
   ]
  },
  {
   "cell_type": "code",
   "execution_count": 13,
   "metadata": {},
   "outputs": [
    {
     "name": "stdout",
     "output_type": "stream",
     "text": [
      "64\n",
      "16\n"
     ]
    }
   ],
   "source": [
    "def stepin(a, step = 2):\n",
    "    return a ** step\n",
    "\n",
    "print(stepin(4, 3))\n",
    "print(stepin(4))\n"
   ]
  },
  {
   "cell_type": "code",
   "execution_count": 18,
   "metadata": {},
   "outputs": [
    {
     "name": "stdout",
     "output_type": "stream",
     "text": [
      "a равно 3 , b равно 7 , а c равно 10\n",
      "20\n",
      "a равно 25 , b равно 5 , а c равно 24\n",
      "54\n",
      "a равно 100 , b равно 5 , а c равно 50\n",
      "155\n"
     ]
    }
   ],
   "source": [
    "def func(a, b = 5, c = 10):\n",
    "    print('a равно', a,', b равно', b,', а c равно', c)\n",
    "    print(a + b + c)\n",
    "func(3, 7)          # a равно 3, b равно 7, а c равно 10\n",
    "func(25, c=24)      # a равно 25, b равно 5, а c равно 24\n",
    "func(c=50, a=100)   # a равно 100, b равно 5, а c равно 50\n"
   ]
  },
  {
   "cell_type": "code",
   "execution_count": 22,
   "metadata": {},
   "outputs": [
    {
     "name": "stdout",
     "output_type": "stream",
     "text": [
      "На розсилку \"Новини\" підписалися 3 користувачів\n",
      "ivanov@gmail.com\n",
      "petrov@gmail.com\n",
      "ivanova@gmail.com\n",
      "---------------------------\n",
      "\n",
      "На розсилку \"Що нового ?\" підписалися 2 користувачів\n",
      "ivanov@gmail.com\n",
      "ivanova@gmail.com\n",
      "---------------------------\n",
      "\n",
      "На розсилку \"Рекламні пропозиції\" підписалися 1 користувачів\n",
      "ivanov@gmail.com\n",
      "---------------------------\n",
      "\n"
     ]
    }
   ],
   "source": [
    "subscribers_list_news = list()\n",
    "subscribers_list_what_new = list()\n",
    "subscribers_list_ads = list()\n",
    "\n",
    "def subscribe(email, is_news = True, is_new = True, is_ads = True):\n",
    "    global subscribers_list_news, subscribers_list_what_new, subscribers_list_ads\n",
    "    if(is_news):\n",
    "        subscribers_list_news.append(email)\n",
    "    if(is_new):\n",
    "        subscribers_list_what_new.append(email)\n",
    "    if(is_ads):\n",
    "        subscribers_list_ads.append(email)\n",
    "\n",
    "\n",
    "def print_subscribers(subscribers_list, list_name) :\n",
    "    delimiter = '---------------------------'\n",
    "    print('На розсилку {} підписалися {} користувачів'.format(list_name, len(subscribers_list)))\n",
    "    for email in subscribers_list:\n",
    "        print(email)\n",
    "    print(delimiter)\n",
    "    print()\n",
    "\n",
    "subscribe('ivanov@gmail.com')\n",
    "subscribe('petrov@gmail.com', True, False, False)\n",
    "subscribe('ivanova@gmail.com', is_ads = False)\n",
    "\n",
    "\n",
    "print_subscribers(subscribers_list_news, '\"Новини\"')\n",
    "print_subscribers(subscribers_list_what_new, '\"Що нового ?\"')\n",
    "print_subscribers(subscribers_list_ads, '\"Рекламні пропозиції\"')\n",
    "\n"
   ]
  },
  {
   "cell_type": "code",
   "execution_count": 24,
   "metadata": {},
   "outputs": [
    {
     "name": "stdout",
     "output_type": "stream",
     "text": [
      "a 10\n",
      "single_item 1\n",
      "single_item 2\n",
      "single_item 3\n",
      "Jack 1123\n",
      "John 2231\n",
      "Inge 1560\n",
      "None\n"
     ]
    }
   ],
   "source": [
    "def total(a=5, *numbers, **phone_book):\n",
    "    print('a', a)\n",
    "# проход по всем элементам кортежа\n",
    "    for single_item in numbers:\n",
    "        print('single_item', single_item)\n",
    "\n",
    "#проход по всем элементам словаря\n",
    "    for first_part, second_part in phone_book.items():\n",
    "        print(first_part,second_part)\n",
    "\n",
    "print(total(10, 1, 2, 3, Jack=1123, John=2231, Inge=1560))\n",
    "\n"
   ]
  },
  {
   "cell_type": "code",
   "execution_count": 1,
   "metadata": {},
   "outputs": [
    {
     "name": "stdout",
     "output_type": "stream",
     "text": [
      "5\n"
     ]
    }
   ],
   "source": [
    "def func(x, y):\n",
    "      return x + y\n",
    "\n",
    "func_alias = func\n",
    "result = func_alias(2, 3)\n",
    "print(result)\n"
   ]
  },
  {
   "cell_type": "code",
   "execution_count": 2,
   "metadata": {},
   "outputs": [
    {
     "name": "stdout",
     "output_type": "stream",
     "text": [
      "5\n",
      "-1\n"
     ]
    }
   ],
   "source": [
    "def sum_func(x, y):\n",
    "    return x + y\n",
    "\n",
    "def subtraction_func(x, y):\n",
    "    return x - y\n",
    "\n",
    "def tricky_func(x, y, func):\n",
    "    return func(x, y)\n",
    "\n",
    "sum_result = tricky_func(2, 3, sum_func)\n",
    "min_result = tricky_func(2, 3, subtraction_func)\n",
    "\n",
    "print(sum_result)  # 5\n",
    "print(min_result)  #-1\n",
    "\n"
   ]
  },
  {
   "cell_type": "code",
   "execution_count": 3,
   "metadata": {},
   "outputs": [
    {
     "name": "stdout",
     "output_type": "stream",
     "text": [
      "5\n",
      "-1\n"
     ]
    }
   ],
   "source": [
    "def sum_func(x, y):\n",
    "    return x + y\n",
    "\n",
    "def subtraction_func(x, y):\n",
    "    return x - y\n",
    "\n",
    "def get_operator(operator):\n",
    "    if operator == '+':\n",
    "        return sum_func\n",
    "    elif operator == '-':\n",
    "        return subtraction_func\n",
    "    else:\n",
    "        print('Unknown operator')\n",
    "\n",
    "sum_action_function = get_operator(\"+\")\n",
    "print(sum_action_function(2, 3))    # 5\n",
    "\n",
    "sub_action_function = get_operator(\"-\")\n",
    "print(sub_action_function(2, 3))    # -1"
   ]
  },
  {
   "cell_type": "code",
   "execution_count": 4,
   "metadata": {},
   "outputs": [
    {
     "name": "stdout",
     "output_type": "stream",
     "text": [
      "Send SMS to +380001234567 with text 18.09.2001 надходження: зарплата - 30 000 грн. Баланс: 100 444 грн.\n",
      "Send email to petrov@ggg.com with text 18.09.2001 надходження: зарплата - 30 000 грн. Баланс: 100 444 грн.\n",
      "Send message 18.09.2001 надходження: зарплата - 30 000 грн. Баланс: 100 444 грн. to queue with app id dasdskcs7y774ysbfh\n"
     ]
    }
   ],
   "source": [
    "user_A = {\n",
    "    'phone': '+380001234567',\n",
    "    'notification': 'SMS'\n",
    "}\n",
    "\n",
    "user_B = {\n",
    "    'email': 'petrov@ggg.com', \n",
    "    'notification': 'email'\n",
    "}\n",
    "\n",
    "user_C = {\n",
    "    'app_id': 'dasdskcs7y774ysbfh', \n",
    "    'notification': 'push'\n",
    "}\n",
    "\n",
    "def send_sms(user_info, message):\n",
    "    print('Send SMS to {} with text {}'.format(user_info['phone'], message))\n",
    "    \n",
    "\n",
    "def send_push(user_info, message):\n",
    "    print('Send message {} to queue with app id {}'.format(message, user_info['app_id']))\n",
    "    \n",
    "\n",
    "def send_email(user_info, message):\n",
    "    print('Send email to {} with text {}'.format(user_info['email'], message))\n",
    "    \n",
    "    \n",
    "def check_notification_type(type):\n",
    "    if type == 'SMS':\n",
    "        return send_sms\n",
    "    elif type == 'push':\n",
    "        return send_push\n",
    "    else:\n",
    "        return send_email\n",
    "\n",
    "\n",
    "for user in [user_A, user_B, user_C]:\n",
    "    send_method = check_notification_type(user['notification'])\n",
    "    send_method(user, '18.09.2001 надходження: зарплата - 30 000 грн. Баланс: 100 444 грн.')\n"
   ]
  },
  {
   "cell_type": "code",
   "execution_count": 6,
   "metadata": {},
   "outputs": [
    {
     "name": "stdout",
     "output_type": "stream",
     "text": [
      "-1\n",
      "5\n"
     ]
    }
   ],
   "source": [
    "#Каррирование\n",
    "def sum_func(x, y):\n",
    "    return x + y\n",
    "\n",
    "\n",
    "def sub_func(x, y):\n",
    "    return x - y\n",
    "\n",
    "\n",
    "OPERATIONS = {\n",
    "    '-': sub_func,\n",
    "    '+': sum_func\n",
    "}\n",
    "\n",
    "\n",
    "def get_handler(operator):\n",
    "    return OPERATIONS[operator]\n",
    "\n",
    "\n",
    "handler = get_handler('-')\n",
    "print(handler(2, 3) )         # -1\n",
    "\n",
    "print(get_handler('+')(2, 3))  # 5\n",
    "\n"
   ]
  },
  {
   "cell_type": "code",
   "execution_count": 9,
   "metadata": {},
   "outputs": [
    {
     "name": "stdout",
     "output_type": "stream",
     "text": [
      "22\n"
     ]
    },
    {
     "data": {
      "text/plain": [
       "36"
      ]
     },
     "execution_count": 9,
     "metadata": {},
     "output_type": "execute_result"
    }
   ],
   "source": [
    "sum_lambda = lambda x, y: x + y\n",
    "print(sum_lambda(10, 12))\n",
    "\n",
    "pow2 = lambda a: a **2\n",
    "pow2(6)"
   ]
  },
  {
   "cell_type": "code",
   "execution_count": 10,
   "metadata": {},
   "outputs": [
    {
     "name": "stdout",
     "output_type": "stream",
     "text": [
      "1\n",
      "4\n",
      "9\n",
      "16\n",
      "25\n"
     ]
    }
   ],
   "source": [
    "\n",
    "#map\n",
    "numbers = [1, 2, 3, 4, 5]\n",
    "\n",
    "for i in map(lambda x: x ** 2, numbers):\n",
    "    print(i)"
   ]
  },
  {
   "cell_type": "code",
   "execution_count": 12,
   "metadata": {},
   "outputs": [
    {
     "name": "stdout",
     "output_type": "stream",
     "text": [
      "1\n",
      "3\n",
      "5\n",
      "7\n",
      "9\n"
     ]
    }
   ],
   "source": [
    "#filter\n",
    "for i in filter(lambda x: x % 2, range(1, 10)):\n",
    "    print(i)\n",
    "\n"
   ]
  },
  {
   "cell_type": "code",
   "execution_count": 13,
   "metadata": {},
   "outputs": [
    {
     "name": "stdout",
     "output_type": "stream",
     "text": [
      "[['China', 1394015977], ['United States', 329877505], ['India', 1326093247]]\n"
     ]
    }
   ],
   "source": [
    "#Вивести країни з населенням більше 300 мільйонів.\n",
    "\n",
    "countries = [\n",
    "    ['China', 1394015977],\n",
    "    ['United States', 329877505],\n",
    "    ['India', 1326093247],\n",
    "    ['Indonesia', 267026366],\n",
    "    ['Bangladesh', 162650853],\n",
    "    ['Pakistan', 233500636],\n",
    "    ['Nigeria', 214028302],\n",
    "    ['Brazil', 21171597],\n",
    "    ['Russia', 141722205],\n",
    "    ['Mexico', 128649565]\n",
    "]\n",
    "\n",
    "populated = filter(lambda c: c[1] > 300000000, countries)\n",
    "\n",
    "print(list(populated))"
   ]
  }
 ],
 "metadata": {
  "interpreter": {
   "hash": "f23faf4bfe871c203c8bec80520af5927fc7cb1ae3bd834ddf554ee587ad1c05"
  },
  "kernelspec": {
   "display_name": "Python 3.8.10 64-bit",
   "language": "python",
   "name": "python3"
  },
  "language_info": {
   "codemirror_mode": {
    "name": "ipython",
    "version": 3
   },
   "file_extension": ".py",
   "mimetype": "text/x-python",
   "name": "python",
   "nbconvert_exporter": "python",
   "pygments_lexer": "ipython3",
   "version": "3.8.10"
  },
  "orig_nbformat": 4
 },
 "nbformat": 4,
 "nbformat_minor": 2
}
