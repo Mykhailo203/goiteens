{
 "cells": [
  {
   "cell_type": "code",
   "execution_count": 1,
   "metadata": {},
   "outputs": [
    {
     "name": "stdout",
     "output_type": "stream",
     "text": [
      "Привет, Мир!\n",
      "Привет, Мир!\n"
     ]
    }
   ],
   "source": [
    "def say_hello():\n",
    "    print('Привет, Мир!')   # блок, принадлежащий функции\n",
    "    # Конец функции say_hello()\n",
    "\n",
    "# вызов функции\n",
    "say_hello()\n",
    "\n",
    "# ещё один вызов функции\n",
    "say_hello()"
   ]
  },
  {
   "cell_type": "code",
   "execution_count": 9,
   "metadata": {},
   "outputs": [
    {
     "name": "stdout",
     "output_type": "stream",
     "text": [
      " Hello World \n",
      " Hello World \n",
      " Hello World \n",
      " Hello World  Misha\n",
      " Hello World  Dmytro\n",
      " Hello World  Kolya\n",
      " Hello World    \n"
     ]
    }
   ],
   "source": [
    "def hello():\n",
    "    print(' Hello World ')\n",
    "\n",
    "def hello_name(name):\n",
    "    print(' Hello World ', name)\n",
    "hello()\n",
    "hello()\n",
    "hello()\n",
    "hello_name('Misha')\n",
    "hello_name('Dmytro')\n",
    "hello_name('Kolya')\n",
    "hello_name('  ')"
   ]
  },
  {
   "cell_type": "code",
   "execution_count": 10,
   "metadata": {},
   "outputs": [
    {
     "name": "stdout",
     "output_type": "stream",
     "text": [
      " Hello World  Misha Pyatnytskyy\n"
     ]
    }
   ],
   "source": [
    "def hello_name(first_name, last_name):\n",
    "    print(' Hello World ', first_name, last_name)\n",
    "hello_name('Misha', 'Pyatnytskyy')\n"
   ]
  },
  {
   "cell_type": "code",
   "execution_count": 11,
   "metadata": {},
   "outputs": [
    {
     "name": "stdout",
     "output_type": "stream",
     "text": [
      "4 максимально\n",
      "7 максимально\n"
     ]
    }
   ],
   "source": [
    "def print_max(a, b):\n",
    "    if a > b:\n",
    "        print(a, 'максимально')\n",
    "    elif a == b:\n",
    "        print(a, 'равно', b)\n",
    "    else:\n",
    "        print(b, 'максимально')\n",
    "\n",
    "print_max(3, 4)  # прямая передача значений\n",
    "\n",
    "x = 5\n",
    "y = 7\n",
    "print_max(x, y)"
   ]
  },
  {
   "cell_type": "code",
   "execution_count": 14,
   "metadata": {},
   "outputs": [
    {
     "name": "stdout",
     "output_type": "stream",
     "text": [
      "40\n"
     ]
    }
   ],
   "source": [
    "def max_of_2(a, b):\n",
    "    result = None\n",
    "    if a > b:\n",
    "        result = a\n",
    "    else:\n",
    "         result = b\n",
    "    return result\n",
    "\n",
    "\n",
    "a=40\n",
    "b=20\n",
    "\n",
    "max_a_b = max_of_2(a, b)\n",
    "print(max_a_b)"
   ]
  },
  {
   "cell_type": "code",
   "execution_count": 17,
   "metadata": {},
   "outputs": [
    {
     "name": "stdout",
     "output_type": "stream",
     "text": [
      "42345\n"
     ]
    }
   ],
   "source": [
    "def max_of_2(number_1, number_2):\n",
    "    result = None\n",
    "    if number_1 > number_2:\n",
    "        result = number_1\n",
    "    else:\n",
    "         result = number_2\n",
    "    return result\n",
    "\n",
    "\n",
    "max_a_b = max_of_2(234, 42345)\n",
    "print(max_a_b)"
   ]
  },
  {
   "cell_type": "code",
   "execution_count": 20,
   "metadata": {},
   "outputs": [
    {
     "name": "stdout",
     "output_type": "stream",
     "text": [
      "42345\n",
      "Max of: 16\n"
     ]
    }
   ],
   "source": [
    "number_3=40\n",
    "number_4=72346\n",
    "\n",
    "def max_of_2(number_1, number_2):\n",
    "    result = None\n",
    "    if number_1 > number_2:\n",
    "        result = number_1\n",
    "    else:\n",
    "         result = number_2\n",
    "    return result\n",
    "\n",
    "\n",
    "max_a_b = max_of_2(234, 42345)\n",
    "print(max_a_b)\n",
    "\n",
    "print('Max of:', max_of_2(12, 16))"
   ]
  },
  {
   "cell_type": "code",
   "execution_count": 22,
   "metadata": {},
   "outputs": [
    {
     "name": "stdout",
     "output_type": "stream",
     "text": [
      "42345\n",
      "Max of: 72346\n",
      "114691\n"
     ]
    }
   ],
   "source": [
    "number_3=40\n",
    "number_4=72346\n",
    "\n",
    "def max_of_2(number_1, number_2):\n",
    "    result = None\n",
    "    if number_1 > number_2:\n",
    "        result = number_1\n",
    "    else:\n",
    "         result = number_2\n",
    "    return result\n",
    "\n",
    "\n",
    "max_a_b = max_of_2(234, 42345)\n",
    "print(max_a_b)\n",
    "\n",
    "print('Max of:', max_of_2(number_3, number_4))\n",
    "\n",
    "result = max_of_2(number_3, number_4) + max_of_2(234, 42345)\n",
    "print(result)"
   ]
  },
  {
   "cell_type": "code",
   "execution_count": null,
   "metadata": {},
   "outputs": [],
   "source": [
    "number_3=40\n",
    "number_4=72346\n",
    "\n",
    "def max_of_2(number_1, number_2):\n",
    "    result = None\n",
    "    if number_1 > number_2:\n",
    "        return number_1\n",
    "    else:\n",
    "         result = b \n",
    "    \n",
    "    return result\n",
    "\n",
    "\n",
    "max_a_b = max_of_2(234, 42345)\n",
    "print(max_a_b)\n",
    "\n",
    "print('Max of:', max_of_2(number_3, number_4))\n",
    "\n",
    "result = max_of_2(number_3, number_4) + max_of_2(234, 42345)\n",
    "print(result)"
   ]
  },
  {
   "cell_type": "code",
   "execution_count": 43,
   "metadata": {},
   "outputs": [
    {
     "name": "stdout",
     "output_type": "stream",
     "text": [
      "14 + 5 = 19\n"
     ]
    }
   ],
   "source": [
    "def sum(a, b):\n",
    "    return a + b\n",
    "\n",
    "\n",
    "def sub(a, b):\n",
    "    return a - b\n",
    "\n",
    "def dil(a, b):\n",
    "    error_message = 'На нуль ділити не можна'\n",
    "    if b == 0:\n",
    "        return error_message\n",
    "    else:\n",
    "        return a / b\n",
    "\n",
    "def chek_operation(operation):\n",
    "    return operation in ['+', '-', '/']\n",
    "\n",
    "def calculate(operand_a, operand_b, operation):\n",
    "    result = None\n",
    "\n",
    "    if operation == '+':\n",
    "        result = sum(operand_a, operand_b)\n",
    "    elif operation == '-':\n",
    "        result = sub(operand_a, operand_b)\n",
    "    elif operation == '/':\n",
    "        result = dil(operand_a, operand_b)\n",
    "    print(operand_a, operation, operand_b, '=', result)\n",
    "\n",
    "\n",
    "\n",
    "a, user_input_operation, b = input('Enter:').split()\n",
    "\n",
    "if not chek_operation(user_input_operation):\n",
    "    print('Operation', user_input_operation, 'not supported yet')\n",
    "else:\n",
    "    calculate(int(a), int(b), user_input_operation )\n",
    "    "
   ]
  }
 ],
 "metadata": {
  "interpreter": {
   "hash": "f23faf4bfe871c203c8bec80520af5927fc7cb1ae3bd834ddf554ee587ad1c05"
  },
  "kernelspec": {
   "display_name": "Python 3.8.10 64-bit",
   "language": "python",
   "name": "python3"
  },
  "language_info": {
   "codemirror_mode": {
    "name": "ipython",
    "version": 3
   },
   "file_extension": ".py",
   "mimetype": "text/x-python",
   "name": "python",
   "nbconvert_exporter": "python",
   "pygments_lexer": "ipython3",
   "version": "3.8.10"
  },
  "orig_nbformat": 4
 },
 "nbformat": 4,
 "nbformat_minor": 2
}
