{
 "cells": [
  {
   "cell_type": "code",
   "execution_count": 4,
   "metadata": {},
   "outputs": [
    {
     "name": "stdout",
     "output_type": "stream",
     "text": [
      "search 1\n",
      "search 1\n",
      "search 1\n",
      "search 1\n",
      "in 2 users паста\n"
     ]
    }
   ],
   "source": [
    "goods_1 = ['мило', 'картопля', 'ковбаса', 'паста']\n",
    "goods_2 = ['картопля', 'паста', 'фарба', 'огірки']\n",
    "for i in goods_1:\n",
    "    print('search', 1)\n",
    "for j in goods_2:\n",
    "    if i == j:\n",
    "        print('in 2 users', j)\n",
    "        break"
   ]
  },
  {
   "cell_type": "code",
   "execution_count": 7,
   "metadata": {},
   "outputs": [
    {
     "name": "stdout",
     "output_type": "stream",
     "text": [
      "dsfs\n",
      "Hello, Misha\n"
     ]
    }
   ],
   "source": [
    "while True:\n",
    "    name = input('enter name:')\n",
    "    if name == 'Misha':\n",
    "        print('Hello, Misha')\n",
    "        break\n",
    "    else:\n",
    "        print(name)"
   ]
  },
  {
   "cell_type": "code",
   "execution_count": 9,
   "metadata": {},
   "outputs": [
    {
     "name": "stdout",
     "output_type": "stream",
     "text": [
      "1\n",
      "2\n",
      "3\n",
      "4\n",
      "5\n",
      "6\n",
      "7\n",
      "140\n"
     ]
    }
   ],
   "source": [
    "suma = 0\n",
    "number = 1\n",
    "\n",
    "while suma <=100:\n",
    "    suma = suma + number ** 2\n",
    "    print(number)\n",
    "    number = number + 1\n",
    "    execute = suma <=100\n",
    "\n",
    "print(suma)\n",
    "    "
   ]
  },
  {
   "cell_type": "code",
   "execution_count": 15,
   "metadata": {},
   "outputs": [
    {
     "name": "stdout",
     "output_type": "stream",
     "text": [
      "58\n",
      "94\n",
      "The end\n"
     ]
    }
   ],
   "source": [
    "min_number = 20\n",
    "max_number = 120\n",
    "while True:\n",
    "    number = int(input('enter number:'))\n",
    "    if number <min_number:\n",
    "        continue\n",
    "    if number > max_number:\n",
    "        break\n",
    "    else:\n",
    "        print(number)\n",
    "print('The end')\n",
    "\n",
    "\n",
    "\n",
    "\n",
    "\n",
    "\n",
    "    "
   ]
  },
  {
   "cell_type": "code",
   "execution_count": 25,
   "metadata": {},
   "outputs": [
    {
     "name": "stdout",
     "output_type": "stream",
     "text": [
      "[]\n",
      "['Ivan', 'Dmytro', 'Petro', 'Kateryna']\n",
      "Petro\n",
      "Kateryna\n",
      "Kateryna\n",
      "Kolia\n",
      "['Dmytro', 'Petro', 'Kateryna', 'Yulia', 'Kolia']\n",
      "best pupil is: Dmytro\n",
      "['Petro', 'Kateryna', 'Yulia', 'Kolia']\n",
      "best pupil is: Petro\n",
      "['Kateryna', 'Yulia', 'Kolia']\n",
      "['Kateryna', 'Yulia']\n"
     ]
    }
   ],
   "source": [
    "pupils = list()\n",
    "print(pupils)\n",
    "\n",
    "pupils = ['Ivan', 'Dmytro', 'Petro', 'Kateryna']\n",
    "pupils = list(('Ivan', 'Dmytro', 'Petro', 'Kateryna'))\n",
    "\n",
    "print(pupils)\n",
    "\n",
    "pupil=pupils[2]\n",
    "print(pupil)\n",
    "\n",
    "pupil=pupils[-1]\n",
    "print(pupil)\n",
    "\n",
    "pupils.append('Yulia')\n",
    "pupils.append('Kolia')\n",
    "print(pupil)\n",
    "pupil=pupils[-1]\n",
    "print(pupil)\n",
    "pupils.remove('Ivan')\n",
    "print(pupils)\n",
    "#pupils.remove('Ivan123')\n",
    "#print(pupils)\n",
    "\n",
    "best_pupil = pupils.pop(0)\n",
    "print('best pupil is:', best_pupil )\n",
    "print(pupils)\n",
    "\n",
    "\n",
    "best_pupil = pupils.pop(0)\n",
    "print('best pupil is:', best_pupil )\n",
    "print(pupils)\n",
    "\n",
    "del pupils[2]\n",
    "print(pupils)\n"
   ]
  },
  {
   "cell_type": "code",
   "execution_count": 27,
   "metadata": {},
   "outputs": [
    {
     "name": "stdout",
     "output_type": "stream",
     "text": [
      "['Ivan', 'Dmytro', 'Petro', 'Kateryna']\n",
      "[]\n"
     ]
    }
   ],
   "source": [
    "pupils = ['Ivan', 'Dmytro', 'Petro', 'Kateryna']\n",
    "print(pupils)\n",
    "pupils.clear()\n",
    "print(pupils)"
   ]
  },
  {
   "cell_type": "code",
   "execution_count": null,
   "metadata": {},
   "outputs": [],
   "source": [
    "Дмитро Ковалюк, [11.11.2021 19:06]\n",
    "pupils = list()\n",
    "print(pupils)\n",
    "\n",
    "pupils = ['Ivan', 'Dmytro', 'Petro', 'Kateryna']\n",
    "pupils = list(('Ivan', 'Dmytro', 'Petro', 'Kateryna'))\n",
    "\n",
    "print(pupils)\n",
    "\n",
    "pupil = pupils[2]\n",
    "print(pupil)\n",
    "\n",
    "pupil = pupils[-1]\n",
    "print(pupil)\n",
    "\n",
    "pupils.append('Yulia')\n",
    "pupils.append('Kolia')\n",
    "\n",
    "print(pupils)\n",
    "\n",
    "pupil = pupils[-1]\n",
    "print(pupil)\n",
    "\n",
    "pupils.remove('Ivan')\n",
    "print(pupils)\n",
    "\n",
    "#pupils.remove('Ivan123')\n",
    "\n",
    "best_pupil = pupils.pop(0)\n",
    "print('best pupil is:', best_pupil)\n",
    "print(pupils)\n",
    "\n",
    "best_pupil = pupils.pop(0)\n",
    "print('best pupil is:', best_pupil)\n",
    "print(pupils)\n",
    "\n",
    "pupils.append('Kolian')\n",
    "print(pupils)\n",
    "\n",
    "del pupils[2]\n",
    "print(pupils)"
   ]
  },
  {
   "cell_type": "code",
   "execution_count": 1,
   "metadata": {},
   "outputs": [
    {
     "name": "stdout",
     "output_type": "stream",
     "text": [
      "['Ivan', 'Dmytro', 'Petro', 'Kateryna', 'Igor', 'Tymofiy']\n"
     ]
    }
   ],
   "source": [
    "pupils = ['Ivan', 'Dmytro', 'Petro', 'Kateryna']\n",
    "new = ['Igor', 'Tymofiy']\n",
    "pupils.extend(new)\n",
    "print(pupils)"
   ]
  },
  {
   "cell_type": "code",
   "execution_count": 2,
   "metadata": {},
   "outputs": [
    {
     "name": "stdout",
     "output_type": "stream",
     "text": [
      "['Ivan', 'Dmytro', 'Petro', 'Kateryna', 'Igor', 'Tymofiy']\n",
      "['Ivan', 'Dmytro', 'Oleg', 'Petro', 'Kateryna', 'Igor', 'Tymofiy']\n"
     ]
    }
   ],
   "source": [
    "pupils = ['Ivan', 'Dmytro', 'Petro', 'Kateryna']\n",
    "new = ['Igor', 'Tymofiy']\n",
    "pupils.extend(new)\n",
    "print(pupils)\n",
    "pupils.insert(2, 'Oleg')\n",
    "print(pupils)"
   ]
  },
  {
   "cell_type": "code",
   "execution_count": 4,
   "metadata": {},
   "outputs": [
    {
     "name": "stdout",
     "output_type": "stream",
     "text": [
      "2\n"
     ]
    }
   ],
   "source": [
    "pupils = ['Ivan', 'Dmytro', 'Petro', 'Kateryna', 'Petro']\n",
    "ind = pupils.index('Petro')\n",
    "print(ind)"
   ]
  },
  {
   "cell_type": "code",
   "execution_count": 5,
   "metadata": {},
   "outputs": [
    {
     "name": "stdout",
     "output_type": "stream",
     "text": [
      "2\n"
     ]
    }
   ],
   "source": [
    "pupils = ['Ivan', 'Dmytro', 'Petro', 'Kateryna', 'Petro']\n",
    "petro = pupils.count('Petro')\n",
    "print(petro)"
   ]
  },
  {
   "cell_type": "code",
   "execution_count": 6,
   "metadata": {},
   "outputs": [
    {
     "name": "stdout",
     "output_type": "stream",
     "text": [
      "Dmytro\n",
      "Ivan\n",
      "Kateryna\n",
      "Petro\n",
      "Petro\n"
     ]
    }
   ],
   "source": [
    "pupils = ['Ivan', 'Dmytro', 'Petro', 'Kateryna', 'Petro']\n",
    "pupils.sort()\n",
    "for pupil in pupils:\n",
    "    print(pupil)"
   ]
  },
  {
   "cell_type": "code",
   "execution_count": 8,
   "metadata": {},
   "outputs": [
    {
     "name": "stdout",
     "output_type": "stream",
     "text": [
      "Petro\n",
      "Kateryna\n",
      "Petro\n",
      "Dmytro\n",
      "Ivan\n"
     ]
    }
   ],
   "source": [
    "pupils = ['Ivan', 'Dmytro', 'Petro', 'Kateryna', 'Petro']\n",
    "pupils.reverse()\n",
    "for pupil in pupils:\n",
    "    print(pupil)"
   ]
  },
  {
   "cell_type": "code",
   "execution_count": 9,
   "metadata": {},
   "outputs": [
    {
     "name": "stdout",
     "output_type": "stream",
     "text": [
      "['Ivan', 'Dmytro', 'Petro', 'Kateryna', 'Petro']\n"
     ]
    }
   ],
   "source": [
    "pupils_7A = ['Ivan', 'Dmytro', 'Petro', 'Kateryna', 'Petro']\n",
    "pupils_8A = pupils_7A.copy()\n",
    "print(pupils_8A)"
   ]
  },
  {
   "cell_type": "code",
   "execution_count": 10,
   "metadata": {},
   "outputs": [
    {
     "name": "stdout",
     "output_type": "stream",
     "text": [
      "5\n"
     ]
    }
   ],
   "source": [
    "pupils_7A = ['Ivan', 'Dmytro', 'Petro', 'Kateryna', 'Petro']\n",
    "pupils_7A_count = len(pupils_7A)\n",
    "print(pupils_7A_count)"
   ]
  },
  {
   "cell_type": "code",
   "execution_count": 12,
   "metadata": {},
   "outputs": [
    {
     "name": "stdout",
     "output_type": "stream",
     "text": [
      "not in class\n"
     ]
    }
   ],
   "source": [
    "pupils_7A = ['Ivan', 'Dmytro', 'Petro', 'Kateryna', 'Petro']\n",
    "if 'Ivan' in pupils_7A:\n",
    "    print('in list')\n",
    "else:\n",
    "    print('not in class')"
   ]
  },
  {
   "cell_type": "code",
   "execution_count": 21,
   "metadata": {},
   "outputs": [
    {
     "name": "stdout",
     "output_type": "stream",
     "text": [
      "Постачання продуктів\n",
      "Апельсин Банан Мандарин Картопля Цибуля Продаж продуктів за назвою:\n",
      "Дякуємо за покупку\n"
     ]
    }
   ],
   "source": [
    "products = ['Апельсин', 'Банан', 'Мандарин']\n",
    "products_sold = list()\n",
    "\n",
    "\n",
    "print('Постачання продуктів')\n",
    "'''while True:\n",
    "    product = input('Введіть назве продукту, або 0 для виходу')\n",
    "\n",
    "    if product == '0':\n",
    "        break\n",
    "    else:\n",
    "        products.append(product)'''\n",
    "\n",
    "\n",
    "products.extend(['Картопля', 'Цибуля'])\n",
    "\n",
    "\n",
    "for product in products:\n",
    "    print(product, end=' ')\n",
    "\n",
    "print('Продаж продуктів за назвою:')\n",
    "\n",
    "product = input('Введіть назве продукту який бажаєте купити')\n",
    "\n",
    "\n",
    "if product in products:\n",
    "    products.remove(product)\n",
    "    products_sold.append(product)\n",
    "    print('Дякуємо за покупку')\n",
    "else:\n",
    "    print('Вказаного продукту немає в наявності!')\n"
   ]
  },
  {
   "cell_type": "code",
   "execution_count": 1,
   "metadata": {},
   "outputs": [
    {
     "name": "stdout",
     "output_type": "stream",
     "text": [
      "Продукти в наявності:\n",
      "1 Апельсин\n",
      "2 Банан\n",
      "Постачання продуктів\n",
      "Введіть назву продукту або 0 для виходу\n",
      "Продукти в наявності:\n",
      "1 Апельсин\n",
      "2 Банан\n",
      "3 Картопля\n",
      "4 Цибуля\n",
      "Продаж продуктів за назвою:\n",
      "Введіть назву продукту, який бажаєте купити\n",
      "Дякуємо за покупку\n",
      "Продаж продуктів за номером:\n",
      "Введіть номер продукту, який бажаєте купити\n",
      "Неправильно вказаний номер\n",
      "Оновлення продукту:\n",
      "Продукти на кінець дня:\n",
      "1 Апельсин\n",
      "2 Картопля молода\n",
      "3 Картопля\n",
      "4 Цибуля\n",
      "Продукти продані за день:\n",
      "Банан\n"
     ]
    }
   ],
   "source": [
    "products = ['Апельсин', 'Банан']\n",
    "products_sold = list()\n",
    "\n",
    "\n",
    "\n",
    "print('Продукти в наявності:')\n",
    "number = 1\n",
    "for product in products:\n",
    "    print(number, product)\n",
    "    number +=1\n",
    "\n",
    "\n",
    "print('Постачання продуктів')\n",
    "print('Введіть назву продукту або 0 для виходу')\n",
    "while True:\n",
    "    product = input()\n",
    "    \n",
    "    if product == '0' :\n",
    "        break\n",
    "    else:\n",
    "        products.append(product)\n",
    "\n",
    "products_new = ['Картопля', 'Цибуля']\n",
    "products.extend(products_new)\n",
    "\n",
    "\n",
    "print('Продукти в наявності:')\n",
    "number = 1\n",
    "for product in products:\n",
    "    print(number, product)\n",
    "    number +=1\n",
    "\n",
    "\n",
    "print('Продаж продуктів за назвою:')\n",
    "print('Введіть назву продукту, який бажаєте купити')\n",
    "product = input()\n",
    "if product in products:\n",
    "    products.remove(product)\n",
    "    products_sold.append(product)\n",
    "    print('Дякуємо за покупку')\n",
    "else:\n",
    "    print('Вказаного продукту немає в наявності')\n",
    "    \n",
    "\n",
    "print('Продаж продуктів за номером:')\n",
    "print('Введіть номер продукту, який бажаєте купити')\n",
    "product_index = int(input())\n",
    "if 0 <= product_index < len(products):\n",
    "    product = products.pop(product_index)\n",
    "    products_sold.append(product)\n",
    "    print('Ви купили', product)\n",
    "    print('Дякуємо за покупку')\n",
    "else:\n",
    "    print('Неправильно вказаний номер')    \n",
    "    \n",
    "\n",
    "print('Оновлення продукту:')\n",
    "product_index = products.index('Картопля')\n",
    "products.insert(product_index, 'Картопля молода')\n",
    "    \n",
    "print('Продукти на кінець дня:')\n",
    "number = 1\n",
    "for product in products:\n",
    "    print(number, product)\n",
    "    number +=1\n",
    "    \n",
    "    \n",
    "print('Продукти продані за день:')\n",
    "products_sold.reverse()\n",
    "\n",
    "for product in products_sold:\n",
    "    print(product)"
   ]
  }
 ],
 "metadata": {
  "interpreter": {
   "hash": "f23faf4bfe871c203c8bec80520af5927fc7cb1ae3bd834ddf554ee587ad1c05"
  },
  "kernelspec": {
   "display_name": "Python 3.8.10 64-bit",
   "language": "python",
   "name": "python3"
  },
  "language_info": {
   "codemirror_mode": {
    "name": "ipython",
    "version": 3
   },
   "file_extension": ".py",
   "mimetype": "text/x-python",
   "name": "python",
   "nbconvert_exporter": "python",
   "pygments_lexer": "ipython3",
   "version": "3.8.10"
  },
  "orig_nbformat": 4
 },
 "nbformat": 4,
 "nbformat_minor": 2
}
