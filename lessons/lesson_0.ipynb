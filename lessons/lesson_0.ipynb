{
 "cells": [
  {
   "cell_type": "code",
   "execution_count": 1,
   "metadata": {},
   "outputs": [
    {
     "name": "stdout",
     "output_type": "stream",
     "text": [
      "hello\n"
     ]
    }
   ],
   "source": [
    "print('hello')"
   ]
  },
  {
   "cell_type": "code",
   "execution_count": 2,
   "metadata": {},
   "outputs": [
    {
     "name": "stdout",
     "output_type": "stream",
     "text": [
      "528\n"
     ]
    }
   ],
   "source": [
    "x = 8**3 + 4*(2 + 2)\n",
    "print(x)"
   ]
  },
  {
   "cell_type": "code",
   "execution_count": 3,
   "metadata": {},
   "outputs": [
    {
     "name": "stdout",
     "output_type": "stream",
     "text": [
      "площа 100\n"
     ]
    }
   ],
   "source": [
    "#квадрат\n",
    "a = 10\n",
    "b = a*a\n",
    "message='площа'\n",
    "print(message, b)"
   ]
  },
  {
   "cell_type": "code",
   "execution_count": 4,
   "metadata": {},
   "outputs": [
    {
     "name": "stdout",
     "output_type": "stream",
     "text": [
      "Hello, Oleg\n"
     ]
    }
   ],
   "source": [
    "name=\"Oleg\"\n",
    "a = f\"Hello, {name}\"\n",
    "print(a)"
   ]
  },
  {
   "cell_type": "code",
   "execution_count": 5,
   "metadata": {},
   "outputs": [
    {
     "name": "stdout",
     "output_type": "stream",
     "text": [
      "Hello Миша\n"
     ]
    }
   ],
   "source": [
    "name=input('Enter your name')\n",
    "a=\"Hello\"\n",
    "print(a, name)"
   ]
  },
  {
   "cell_type": "code",
   "execution_count": 17,
   "metadata": {},
   "outputs": [
    {
     "name": "stdout",
     "output_type": "stream",
     "text": [
      "  b'!'\n"
     ]
    }
   ],
   "source": [
    "a=input(\"Ваше ім'я\")\n",
    "b=input(\"last_name\")\n",
    "c=input(\"Як до вас звертатися?\")\n",
    "print(c, a, b)"
   ]
  },
  {
   "cell_type": "code",
   "execution_count": 15,
   "metadata": {},
   "outputs": [
    {
     "name": "stdout",
     "output_type": "stream",
     "text": [
      "True\n"
     ]
    }
   ],
   "source": [
    "age = 18\n",
    "a = age >= 18\n",
    "print(a) "
   ]
  },
  {
   "cell_type": "code",
   "execution_count": 1,
   "metadata": {},
   "outputs": [
    {
     "name": "stdout",
     "output_type": "stream",
     "text": [
      "12\n"
     ]
    }
   ],
   "source": [
    "#периметр трикутника\n",
    "a=3\n",
    "b=2\n",
    "c=7\n",
    "print(a+b+c)"
   ]
  },
  {
   "cell_type": "code",
   "execution_count": 2,
   "metadata": {},
   "outputs": [
    {
     "name": "stdout",
     "output_type": "stream",
     "text": [
      "Привіт. Я з міста  Київ , навчаюся у Слов'янська гімназія\n"
     ]
    }
   ],
   "source": [
    "a=input(\"З якого вы міста?\")\n",
    "b=input(\"У якій школі ви навчаєтесь?\")\n",
    "c=\"Привіт. Я з міста \"\n",
    "d=\", навчаюся у\"\n",
    "print(c, a, d, b)"
   ]
  },
  {
   "cell_type": "code",
   "execution_count": 3,
   "metadata": {},
   "outputs": [
    {
     "name": "stdout",
     "output_type": "stream",
     "text": [
      "123 <class 'int'>\n"
     ]
    }
   ],
   "source": [
    "a = int('123')\n",
    "print(a, type(a))"
   ]
  },
  {
   "cell_type": "code",
   "execution_count": 4,
   "metadata": {},
   "outputs": [
    {
     "name": "stdout",
     "output_type": "stream",
     "text": [
      "12 <class 'int'>\n"
     ]
    }
   ],
   "source": [
    "a = int(12.3)\n",
    "print(a, type(a))"
   ]
  },
  {
   "cell_type": "code",
   "execution_count": 5,
   "metadata": {},
   "outputs": [
    {
     "name": "stdout",
     "output_type": "stream",
     "text": [
      "123.0 <class 'float'>\n"
     ]
    }
   ],
   "source": [
    "a = float('123')\n",
    "print(a, type(a))"
   ]
  },
  {
   "cell_type": "code",
   "execution_count": 6,
   "metadata": {},
   "outputs": [
    {
     "name": "stdout",
     "output_type": "stream",
     "text": [
      "False <class 'bool'>\n"
     ]
    }
   ],
   "source": [
    "a = 1 > 3\n",
    "print(a, type(a))\n"
   ]
  },
  {
   "cell_type": "code",
   "execution_count": 7,
   "metadata": {},
   "outputs": [
    {
     "name": "stdout",
     "output_type": "stream",
     "text": [
      "True <class 'bool'>\n"
     ]
    }
   ],
   "source": [
    "a = bool('12')\n",
    "print(a, type(a))"
   ]
  },
  {
   "cell_type": "code",
   "execution_count": 8,
   "metadata": {},
   "outputs": [
    {
     "name": "stdout",
     "output_type": "stream",
     "text": [
      "29 <class 'str'>\n"
     ]
    }
   ],
   "source": [
    "a = str(29)\n",
    "print(a, type(a))"
   ]
  },
  {
   "cell_type": "code",
   "execution_count": 9,
   "metadata": {},
   "outputs": [
    {
     "name": "stdout",
     "output_type": "stream",
     "text": [
      "12.334 <class 'float'>\n"
     ]
    }
   ],
   "source": [
    "a = float('12.334')\n",
    "print(a, type(a))"
   ]
  },
  {
   "cell_type": "code",
   "execution_count": 12,
   "metadata": {},
   "outputs": [
    {
     "name": "stdout",
     "output_type": "stream",
     "text": [
      "Ці числа рівні \n"
     ]
    }
   ],
   "source": [
    "a = 6\n",
    "b = 6\n",
    "if a>b:\n",
    "    print(\"Перше число більше\")\n",
    "elif a<b:\n",
    "    print(\"Друге число більше\")\n",
    "else:\n",
    "    print(\"Ці числа рівні \")"
   ]
  },
  {
   "cell_type": "code",
   "execution_count": null,
   "metadata": {},
   "outputs": [],
   "source": [
    "print(bool(0))\n",
    "print(bool(None))\n",
    "print(bool('0'))\n",
    "print(bool(''))\n",
    "print(bool(0.0))\n",
    "print(bool(0.1))"
   ]
  },
  {
   "cell_type": "code",
   "execution_count": 37,
   "metadata": {},
   "outputs": [
    {
     "name": "stdout",
     "output_type": "stream",
     "text": [
      "Error\n"
     ]
    }
   ],
   "source": [
    "a = int(input('Який цей день?'))\n",
    "if a==6 or a==7:\n",
    "    print('Це вихідний день')\n",
    "elif a==1 or a==2 or a==3 or a==4 or a==5:\n",
    "    print('Це будні день')\n",
    "else:\n",
    "    print('Error')"
   ]
  },
  {
   "cell_type": "code",
   "execution_count": 20,
   "metadata": {},
   "outputs": [
    {
     "name": "stdout",
     "output_type": "stream",
     "text": [
      "it is weekday, go to school!\n"
     ]
    }
   ],
   "source": [
    "day = 3\n",
    "\n",
    "if 1 <= day <= 5:\n",
    "    print('it is weekday, go to school!')\n",
    "elif 6 <= day <= 7:\n",
    "    print('it is holiday, have a rest')\n",
    "else:\n",
    "    print(None)"
   ]
  },
  {
   "cell_type": "code",
   "execution_count": 27,
   "metadata": {},
   "outputs": [
    {
     "name": "stdout",
     "output_type": "stream",
     "text": [
      "You have  27.2  uah\n"
     ]
    }
   ],
   "source": [
    "user_currency = input('enter currency')\n",
    "\n",
    "\n",
    "\n",
    "is_exchange = (user_currency == 'usd') or (user_currency == 'eur')\n",
    "\n",
    "if(not is_exchange) :\n",
    "    print('currency not supported')\n",
    "else:\n",
    "    usd_tax = 27.2\n",
    "    usd_eur = 31.4\n",
    "\n",
    "    value = int(input('enter money value'))\n",
    "    money = value * usd_tax if user_currency == 'usd' else value * usd_eur\n",
    "    print('You have ', money, ' uah')"
   ]
  },
  {
   "cell_type": "code",
   "execution_count": 42,
   "metadata": {},
   "outputs": [
    {
     "name": "stdout",
     "output_type": "stream",
     "text": [
      "32669\n"
     ]
    }
   ],
   "source": [
    "a = int(input('a='))\n",
    "b = int(input('b='))\n",
    "\n",
    "operation = input('enter | + | - | * | ** ')\n",
    "\n",
    "result = None\n",
    "\n",
    "if operation == '+':\n",
    "    result = a + b\n",
    "elif operation == '-':\n",
    "    result = a - b\n",
    "elif operation == '*':\n",
    "    result = a * b\n",
    "elif operation == '**':\n",
    "    result = pow(a, b)\n",
    "else: \n",
    "    result = 'operation not supported'            \n",
    "\n",
    "print(result)"
   ]
  },
  {
   "cell_type": "code",
   "execution_count": null,
   "metadata": {},
   "outputs": [],
   "source": [
    "a = input('Введите число')\n",
    "a = int(a)\n",
    "if a > 0:\n",
    "    print('Число положительное')\n",
    "elif a == 1:\n",
    "    print('Число равно 1')\n",
    "else:\n",
    "    print(\"a <= 0\")"
   ]
  }
 ],
 "metadata": {
  "interpreter": {
   "hash": "f23faf4bfe871c203c8bec80520af5927fc7cb1ae3bd834ddf554ee587ad1c05"
  },
  "kernelspec": {
   "display_name": "Python 3.8.10 64-bit",
   "name": "python3"
  },
  "language_info": {
   "codemirror_mode": {
    "name": "ipython",
    "version": 3
   },
   "file_extension": ".py",
   "mimetype": "text/x-python",
   "name": "python",
   "nbconvert_exporter": "python",
   "pygments_lexer": "ipython3",
   "version": "3.8.10"
  },
  "orig_nbformat": 4
 },
 "nbformat": 4,
 "nbformat_minor": 2
}
