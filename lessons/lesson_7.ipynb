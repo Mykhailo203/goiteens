{
 "cells": [
  {
   "cell_type": "code",
   "execution_count": null,
   "metadata": {},
   "outputs": [],
   "source": [
    "customers_A = {'Ivanov', 'Petrov', 'Sidorov'}\n",
    "customers_B = {'Ivanova', 'Petrova', 'Sidorov'}\n",
    "\n",
    "customers_A_B = customers_A & customers_B\n",
    "print(customers_A_B)\n",
    "\n",
    "customers_all = customers_A | customers_B \n",
    "print(customers_all)\n",
    "\n",
    "print(customers_B.union(customers_A))\n",
    "\n",
    "print(sorted(customers_all))"
   ]
  },
  {
   "cell_type": "code",
   "execution_count": null,
   "metadata": {},
   "outputs": [],
   "source": [
    "monthes = {1:  'січень',\n",
    "           2:  'лютий',\n",
    "           3:  'березень',\n",
    "           4:  'квітень',\n",
    "           5:  'травень',\n",
    "           6:  'червень',\n",
    "           7:  'липень',\n",
    "           8:  'серпень',\n",
    "           9:  'вересень',\n",
    "           10: 'жовтень',\n",
    "           11: 'листтопад',\n",
    "           12: 'грудень'}\n",
    "print(monthes)"
   ]
  },
  {
   "cell_type": "code",
   "execution_count": 5,
   "metadata": {},
   "outputs": [
    {
     "name": "stdout",
     "output_type": "stream",
     "text": [
      "{}\n",
      "{'USD': 'U.S.A', 'EUR': 'Europe'}\n",
      "2\n"
     ]
    }
   ],
   "source": [
    "currencies = dict()\n",
    "print(currencies)\n",
    "\n",
    "currencies = {'USD': 'U.S.A', 'EUR': 'Europe'}\n",
    "print(currencies)\n",
    "\n",
    "print(len(currencies))\n"
   ]
  },
  {
   "cell_type": "code",
   "execution_count": 13,
   "metadata": {},
   "outputs": [
    {
     "name": "stdout",
     "output_type": "stream",
     "text": [
      "{}\n",
      "{'USD': [], 'EUR': ['Europe', 30.2, 30.5, 5000]}\n",
      "2\n"
     ]
    }
   ],
   "source": [
    "currencies = dict()\n",
    "print(currencies)\n",
    "\n",
    "currencies = {\n",
    "  'USD': ['U.S.A', 27.2, 27.4, 12000,],\n",
    "  'USD': [],\n",
    "  'EUR': ['Europe', 30.2, 30.5, 5000]}\n",
    "print(currencies)\n",
    "\n",
    "print(len(currencies))\n"
   ]
  },
  {
   "cell_type": "code",
   "execution_count": 1,
   "metadata": {},
   "outputs": [
    {
     "name": "stdout",
     "output_type": "stream",
     "text": [
      "{}\n",
      "{'USD': ['U.S.A', 27.2, 27.4, 12000], 'EUR': ['Europe', 30.2, 30.5, 5000]}\n",
      "2\n",
      "11000\n",
      "not_found\n"
     ]
    }
   ],
   "source": [
    "currencies = dict()\n",
    "print(currencies)\n",
    "\n",
    "currencies = {\n",
    "  'USD': ['U.S.A', 27.2, 27.4, 12000,],\n",
    "  'EUR': ['Europe', 30.2, 30.5, 5000]}\n",
    "print(currencies)\n",
    "\n",
    "print(len(currencies))\n",
    "\n",
    "usd_info = currencies.get('USD')\n",
    "print(usd_info[3]-1000)\n",
    "\n",
    "uah_info = currencies.get('UAH', 'not_found')\n",
    "print(uah_info)"
   ]
  },
  {
   "cell_type": "code",
   "execution_count": 20,
   "metadata": {},
   "outputs": [
    {
     "ename": "IndentationError",
     "evalue": "unexpected indent (Temp/ipykernel_2984/3087683982.py, line 5)",
     "output_type": "error",
     "traceback": [
      "\u001b[1;36m  File \u001b[1;32m\"C:\\Users\\user\\AppData\\Local\\Temp/ipykernel_2984/3087683982.py\"\u001b[1;36m, line \u001b[1;32m5\u001b[0m\n\u001b[1;33m    usd = currencies.pop('USD')\u001b[0m\n\u001b[1;37m    ^\u001b[0m\n\u001b[1;31mIndentationError\u001b[0m\u001b[1;31m:\u001b[0m unexpected indent\n"
     ]
    }
   ],
   "source": [
    "currencies = {\n",
    "  'USD': ['U.S.A', 27.2, 27.4, 12000,],\n",
    "  'EUR': ['Europe', 30.2, 30.5, 5000]}\n",
    "\n",
    "  usd = currencies.pop('USD')\n",
    "  print(usd)\n",
    "\n",
    "  print(currencies)"
   ]
  },
  {
   "cell_type": "code",
   "execution_count": 21,
   "metadata": {},
   "outputs": [
    {
     "name": "stdout",
     "output_type": "stream",
     "text": [
      "{}\n"
     ]
    }
   ],
   "source": [
    "chars = {'a': 1, 'b': 2}\n",
    "chars.clear()\n",
    "print(chars)"
   ]
  },
  {
   "cell_type": "code",
   "execution_count": 22,
   "metadata": {},
   "outputs": [
    {
     "name": "stdout",
     "output_type": "stream",
     "text": [
      "{'a': 1, 'b': 2, 'c': 3}\n"
     ]
    }
   ],
   "source": [
    "chars = {'a': 1, 'b': 2}\n",
    "chars.update({\"c\": 3})\n",
    "print(chars)  # {'a': 1, 'b': 2, \"c\": 3}"
   ]
  },
  {
   "cell_type": "code",
   "execution_count": null,
   "metadata": {},
   "outputs": [],
   "source": [
    "chars = {'a': 1, 'b': 2}\n",
    "chars_copy = chars.copy()\n",
    "chars_copy == chars"
   ]
  },
  {
   "cell_type": "code",
   "execution_count": 25,
   "metadata": {},
   "outputs": [
    {
     "name": "stdout",
     "output_type": "stream",
     "text": [
      "{'USD': ['U.S.A', 27.2, 27.4, 12000], 'EUR': ['Europe', 30.2, 30.5, 5000]}\n",
      "{'USD': 'test', 'EUR': ['Europe', 30.2, 30.5, 5000]}\n"
     ]
    }
   ],
   "source": [
    "currencies = {\n",
    "  'USD': ['U.S.A', 27.2, 27.4, 12000,],\n",
    "  'EUR': ['Europe', 30.2, 30.5, 5000]}\n",
    "\n",
    "currencies_copy = currencies\n",
    "print(currencies_copy)\n",
    "\n",
    "currencies['USD'] = 'test'\n",
    "\n",
    "print(currencies_copy)\n",
    "\n"
   ]
  },
  {
   "cell_type": "code",
   "execution_count": 2,
   "metadata": {},
   "outputs": [
    {
     "name": "stdout",
     "output_type": "stream",
     "text": [
      "{'USD': ['U.S.A', 27.2, 27.4, 12000], 'EUR': ['Europe', 30.2, 30.5, 5000]}\n",
      "{'USD': ['U.S.A', 27.2, 27.4, 12000], 'EUR': ['Europe', 30.2, 30.5, 5000]}\n"
     ]
    }
   ],
   "source": [
    "currencies = {\n",
    "  'USD': ['U.S.A', 27.2, 27.4, 12000,],\n",
    "  'EUR': ['Europe', 30.2, 30.5, 5000]}\n",
    "\n",
    "currencies_copy = currencies.copy()\n",
    "print(currencies_copy)\n",
    "\n",
    "currencies['USD'] = 'test'\n",
    "\n",
    "print(currencies_copy)\n"
   ]
  },
  {
   "cell_type": "code",
   "execution_count": 6,
   "metadata": {},
   "outputs": [
    {
     "name": "stdout",
     "output_type": "stream",
     "text": [
      "31.06.2021\n",
      "Звіт за червень\n"
     ]
    }
   ],
   "source": [
    "monthes = {1:  'січень',\n",
    "           2:  'лютий',\n",
    "           3:  'березень',\n",
    "           4:  'квітень',\n",
    "           5:  'травень',\n",
    "           6:  'червень',\n",
    "           7:  'липень',\n",
    "           8:  'серпень',\n",
    "           9:  'вересень',\n",
    "           10: 'жовтень',\n",
    "           11: 'листтопад',\n",
    "           12: 'грудень'}\n",
    "\n",
    "report_date = '31.06.2021'\n",
    "\n",
    "print(report_date)\n",
    "\n",
    "month = int(report_date[3:5])\n",
    "\n",
    "month_name = monthes[month] \n",
    "\n",
    "print('Звіт за', month_name)"
   ]
  },
  {
   "cell_type": "code",
   "execution_count": 7,
   "metadata": {},
   "outputs": [
    {
     "name": "stdout",
     "output_type": "stream",
     "text": [
      "1\n",
      "2\n",
      "3\n"
     ]
    }
   ],
   "source": [
    "numbers = {\n",
    "    1: \"one\",\n",
    "    2: \"two\",\n",
    "    3: \"three\"\n",
    "}\n",
    "for x in numbers:\n",
    "    print(x)"
   ]
  },
  {
   "cell_type": "code",
   "execution_count": 8,
   "metadata": {},
   "outputs": [
    {
     "name": "stdout",
     "output_type": "stream",
     "text": [
      "назва місяця січень\n",
      "назва місяця лютий\n",
      "назва місяця березень\n",
      "назва місяця квітень\n",
      "назва місяця травень\n",
      "назва місяця червень\n",
      "назва місяця липень\n",
      "назва місяця серпень\n",
      "назва місяця вересень\n",
      "назва місяця жовтень\n",
      "назва місяця листтопад\n",
      "назва місяця грудень\n",
      "1 січень\n",
      "2 лютий\n",
      "3 березень\n",
      "4 квітень\n",
      "5 травень\n",
      "6 червень\n",
      "7 липень\n",
      "8 серпень\n",
      "9 вересень\n",
      "10 жовтень\n",
      "11 листтопад\n",
      "12 грудень\n"
     ]
    }
   ],
   "source": [
    "monthes = {1:  'січень',\n",
    "           2:  'лютий',\n",
    "           3:  'березень',\n",
    "           4:  'квітень',\n",
    "           5:  'травень',\n",
    "           6:  'червень',\n",
    "           7:  'липень',\n",
    "           8:  'серпень',\n",
    "           9:  'вересень',\n",
    "           10: 'жовтень',\n",
    "           11: 'листтопад',\n",
    "           12: 'грудень'}\n",
    "\n",
    "for x in monthes.values():     #Виводить значееня словника\n",
    "    print('назва місяця',x)\n",
    "\n",
    "for month_number, month_name in monthes.items():    #Виводить ключ з значенням словника\n",
    "    print(month_number, month_name)"
   ]
  },
  {
   "cell_type": "code",
   "execution_count": 19,
   "metadata": {},
   "outputs": [
    {
     "name": "stdout",
     "output_type": "stream",
     "text": [
      "{'USD': ['U.S.A', 27.2, 27.4, 12000], 'EUR': ['Europe', 30.2, 30.5, 5000], 'GBP': ['Фунт', 38.2, 38.4, 12000], 'PZT': ['Польський злотий', 6.2, 6.4, 25000]}\n",
      "{'USD': ['U.S.A', 27.3, 27.4, 12000], 'EUR': ['Europe', 30.1, 30.5, 5000], 'GBP': ['Фунт', 38.2, 38.4, 12000], 'PZT': ['Польський злотий', 6.2, 6.4, 25000]}\n",
      "['U.S.A', 27.3, 27.4, 12000]\n",
      "False\n",
      "not rated CNY\n"
     ]
    }
   ],
   "source": [
    "#Додати в існуючий словник «курси валют», курс польського злотого,\n",
    "# оновити курс долара та євро. usd 27.3 eur 30.1\n",
    "# Розрахувати обмінну операцію продажу довільної кількості іноземної валюти\n",
    "\n",
    "currencies = {\n",
    "  'USD': ['U.S.A', 27.2, 27.4, 12000,],\n",
    "  'EUR': ['Europe', 30.2, 30.5, 5000]\n",
    "  }\n",
    "\n",
    "currencies_new = {\n",
    " 'GBP': ['Фунт', 38.2, 38.4, 12000]\n",
    "}\n",
    "\n",
    "currencies.update(currencies_new)\n",
    "currencies['PZT'] = ['Польський злотий', 6.2, 6.4, 25000]\n",
    "\n",
    "print(currencies)\n",
    "\n",
    "currencies['USD'][1] = 27.3\n",
    "currencies['EUR'][1] = 30.1\n",
    "\n",
    "print(currencies)\n",
    "\n",
    "money_currency = 'CNY' #CNY китайський юань\n",
    "operation_type = 1 #купити 2 - продати\n",
    "user_sum = 10000\n",
    "\n",
    "is_present = currencies.get('USD', 0)\n",
    "print(is_present)\n",
    "\n",
    "is_present = currencies.get('CNY', False)\n",
    "print(is_present)\n",
    "\n",
    "if not is_present:\n",
    "  print('not rated', money_currency)\n",
    "\n",
    "else:\n",
    "  money_info = currencies[money_currency]\n",
    "  if operation_type == 1 and currencies[money_currency][3] < user_sum:\n",
    "    print('not money')\n",
    "  else:\n",
    "    "
   ]
  }
 ],
 "metadata": {
  "interpreter": {
   "hash": "f23faf4bfe871c203c8bec80520af5927fc7cb1ae3bd834ddf554ee587ad1c05"
  },
  "kernelspec": {
   "display_name": "Python 3.8.10 64-bit",
   "language": "python",
   "name": "python3"
  },
  "language_info": {
   "codemirror_mode": {
    "name": "ipython",
    "version": 3
   },
   "file_extension": ".py",
   "mimetype": "text/x-python",
   "name": "python",
   "nbconvert_exporter": "python",
   "pygments_lexer": "ipython3",
   "version": "3.8.10"
  },
  "orig_nbformat": 4
 },
 "nbformat": 4,
 "nbformat_minor": 2
}
