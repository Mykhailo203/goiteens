{
 "cells": [
  {
   "cell_type": "code",
   "execution_count": null,
   "metadata": {},
   "outputs": [],
   "source": [
    "customers_A = {'Ivanov', 'Petrov', 'Sidorov'}\n",
    "customers_B = {'Ivanova', 'Petrova', 'Sidorov'}\n",
    "\n",
    "customers_A_B = customers_A & customers_B\n",
    "print(customers_A_B)\n",
    "\n",
    "customers_all = customers_A | customers_B \n",
    "print(customers_all)\n",
    "\n",
    "print(customers_B.union(customers_A))\n",
    "\n",
    "print(sorted(customers_all))"
   ]
  },
  {
   "cell_type": "code",
   "execution_count": null,
   "metadata": {},
   "outputs": [],
   "source": [
    "monthes = {1:  'січень',\n",
    "           2:  'лютий',\n",
    "           3:  'березень',\n",
    "           4:  'квітень',\n",
    "           5:  'травень',\n",
    "           6:  'червень',\n",
    "           7:  'липень',\n",
    "           8:  'серпень',\n",
    "           9:  'вересень',\n",
    "           10: 'жовтень',\n",
    "           11: 'листтопад',\n",
    "           12: 'грудень'}\n",
    "print(monthes)"
   ]
  },
  {
   "cell_type": "code",
   "execution_count": 5,
   "metadata": {},
   "outputs": [
    {
     "name": "stdout",
     "output_type": "stream",
     "text": [
      "{}\n",
      "{'USD': 'U.S.A', 'EUR': 'Europe'}\n",
      "2\n"
     ]
    }
   ],
   "source": [
    "currencies = dict()\n",
    "print(currencies)\n",
    "\n",
    "currencies = {'USD': 'U.S.A', 'EUR': 'Europe'}\n",
    "print(currencies)\n",
    "\n",
    "print(len(currencies))\n"
   ]
  },
  {
   "cell_type": "code",
   "execution_count": 13,
   "metadata": {},
   "outputs": [
    {
     "name": "stdout",
     "output_type": "stream",
     "text": [
      "{}\n",
      "{'USD': [], 'EUR': ['Europe', 30.2, 30.5, 5000]}\n",
      "2\n"
     ]
    }
   ],
   "source": [
    "currencies = dict()\n",
    "print(currencies)\n",
    "\n",
    "currencies = {\n",
    "  'USD': ['U.S.A', 27.2, 27.4, 12000,],\n",
    "  'USD': [],\n",
    "  'EUR': ['Europe', 30.2, 30.5, 5000]}\n",
    "print(currencies)\n",
    "\n",
    "print(len(currencies))\n"
   ]
  },
  {
   "cell_type": "code",
   "execution_count": 1,
   "metadata": {},
   "outputs": [
    {
     "name": "stdout",
     "output_type": "stream",
     "text": [
      "{}\n",
      "{'USD': ['U.S.A', 27.2, 27.4, 12000], 'EUR': ['Europe', 30.2, 30.5, 5000]}\n",
      "2\n",
      "11000\n",
      "not_found\n"
     ]
    }
   ],
   "source": [
    "currencies = dict()\n",
    "print(currencies)\n",
    "\n",
    "currencies = {\n",
    "  'USD': ['U.S.A', 27.2, 27.4, 12000,],\n",
    "  'EUR': ['Europe', 30.2, 30.5, 5000]}\n",
    "print(currencies)\n",
    "\n",
    "print(len(currencies))\n",
    "\n",
    "usd_info = currencies.get('USD')\n",
    "print(usd_info[3]-1000)\n",
    "\n",
    "uah_info = currencies.get('UAH', 'not_found')\n",
    "print(uah_info)"
   ]
  },
  {
   "cell_type": "code",
   "execution_count": 20,
   "metadata": {},
   "outputs": [
    {
     "ename": "IndentationError",
     "evalue": "unexpected indent (Temp/ipykernel_2984/3087683982.py, line 5)",
     "output_type": "error",
     "traceback": [
      "\u001b[1;36m  File \u001b[1;32m\"C:\\Users\\user\\AppData\\Local\\Temp/ipykernel_2984/3087683982.py\"\u001b[1;36m, line \u001b[1;32m5\u001b[0m\n\u001b[1;33m    usd = currencies.pop('USD')\u001b[0m\n\u001b[1;37m    ^\u001b[0m\n\u001b[1;31mIndentationError\u001b[0m\u001b[1;31m:\u001b[0m unexpected indent\n"
     ]
    }
   ],
   "source": [
    "currencies = {\n",
    "  'USD': ['U.S.A', 27.2, 27.4, 12000,],\n",
    "  'EUR': ['Europe', 30.2, 30.5, 5000]}\n",
    "\n",
    "  usd = currencies.pop('USD')\n",
    "  print(usd)\n",
    "\n",
    "  print(currencies)"
   ]
  },
  {
   "cell_type": "code",
   "execution_count": 21,
   "metadata": {},
   "outputs": [
    {
     "name": "stdout",
     "output_type": "stream",
     "text": [
      "{}\n"
     ]
    }
   ],
   "source": [
    "chars = {'a': 1, 'b': 2}\n",
    "chars.clear()\n",
    "print(chars)"
   ]
  },
  {
   "cell_type": "code",
   "execution_count": 22,
   "metadata": {},
   "outputs": [
    {
     "name": "stdout",
     "output_type": "stream",
     "text": [
      "{'a': 1, 'b': 2, 'c': 3}\n"
     ]
    }
   ],
   "source": [
    "chars = {'a': 1, 'b': 2}\n",
    "chars.update({\"c\": 3})\n",
    "print(chars)  # {'a': 1, 'b': 2, \"c\": 3}"
   ]
  },
  {
   "cell_type": "code",
   "execution_count": null,
   "metadata": {},
   "outputs": [],
   "source": [
    "chars = {'a': 1, 'b': 2}\n",
    "chars_copy = chars.copy()\n",
    "chars_copy == chars"
   ]
  },
  {
   "cell_type": "code",
   "execution_count": 25,
   "metadata": {},
   "outputs": [
    {
     "name": "stdout",
     "output_type": "stream",
     "text": [
      "{'USD': ['U.S.A', 27.2, 27.4, 12000], 'EUR': ['Europe', 30.2, 30.5, 5000]}\n",
      "{'USD': 'test', 'EUR': ['Europe', 30.2, 30.5, 5000]}\n"
     ]
    }
   ],
   "source": [
    "currencies = {\n",
    "  'USD': ['U.S.A', 27.2, 27.4, 12000,],\n",
    "  'EUR': ['Europe', 30.2, 30.5, 5000]}\n",
    "\n",
    "currencies_copy = currencies\n",
    "print(currencies_copy)\n",
    "\n",
    "currencies['USD'] = 'test'\n",
    "\n",
    "print(currencies_copy)\n",
    "\n"
   ]
  }
 ],
 "metadata": {
  "interpreter": {
   "hash": "f23faf4bfe871c203c8bec80520af5927fc7cb1ae3bd834ddf554ee587ad1c05"
  },
  "kernelspec": {
   "display_name": "Python 3.8.10 64-bit",
   "language": "python",
   "name": "python3"
  },
  "language_info": {
   "codemirror_mode": {
    "name": "ipython",
    "version": 3
   },
   "file_extension": ".py",
   "mimetype": "text/x-python",
   "name": "python",
   "nbconvert_exporter": "python",
   "pygments_lexer": "ipython3",
   "version": "3.8.10"
  },
  "orig_nbformat": 4
 },
 "nbformat": 4,
 "nbformat_minor": 2
}
