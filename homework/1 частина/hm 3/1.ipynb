{
 "cells": [
  {
   "cell_type": "code",
   "execution_count": 11,
   "metadata": {},
   "outputs": [
    {
     "name": "stdout",
     "output_type": "stream",
     "text": [
      "4\n"
     ]
    }
   ],
   "source": [
    "first_number = int(input())\n",
    "second_number = int(input())\n",
    "numbers = range(first_number,second_number)\n",
    "suma = 0\n",
    "for number in numbers:\n",
    "    suma += number**2\n",
    "print(suma)"
   ]
  },
  {
   "cell_type": "code",
   "execution_count": 12,
   "metadata": {},
   "outputs": [
    {
     "name": "stdout",
     "output_type": "stream",
     "text": [
      "7\n"
     ]
    }
   ],
   "source": [
    "stroka = input('Введіть строку')\n",
    "symbol = input('Введіть символ')\n",
    "c = 0\n",
    "for a in stroka:\n",
    "    if a == symbol:\n",
    "        c += 1\n",
    "print(c)"
   ]
  },
  {
   "cell_type": "code",
   "execution_count": 16,
   "metadata": {},
   "outputs": [
    {
     "name": "stdout",
     "output_type": "stream",
     "text": [
      "Це буде ваша перша поїздка у це місто!\n",
      "Це буде ваша перша поїздка у це місто!\n",
      "Це буде ваша перша поїздка у це місто!\n",
      "Це буде ваша перша поїздка у це місто!\n"
     ]
    }
   ],
   "source": [
    "towns = ['Lviv', 'Kyiv', 'Madrid', 'Liverpool']\n",
    "trip = input('Введіть місто у яке хочете поїхати')\n",
    "for town in towns:\n",
    "    if town == trip:\n",
    "        print('Ви вже відвідували це місто!')\n",
    "        break\n",
    "    else:\n",
    "        print('Це буде ваша перша поїздка у це місто!')\n"
   ]
  }
 ],
 "metadata": {
  "interpreter": {
   "hash": "f23faf4bfe871c203c8bec80520af5927fc7cb1ae3bd834ddf554ee587ad1c05"
  },
  "kernelspec": {
   "display_name": "Python 3.8.10 64-bit",
   "language": "python",
   "name": "python3"
  },
  "language_info": {
   "codemirror_mode": {
    "name": "ipython",
    "version": 3
   },
   "file_extension": ".py",
   "mimetype": "text/x-python",
   "name": "python",
   "nbconvert_exporter": "python",
   "pygments_lexer": "ipython3",
   "version": "3.8.10"
  },
  "orig_nbformat": 4
 },
 "nbformat": 4,
 "nbformat_minor": 2
}
