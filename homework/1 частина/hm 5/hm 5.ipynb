{
 "cells": [
  {
   "cell_type": "code",
   "execution_count": 2,
   "metadata": {},
   "outputs": [
    {
     "name": "stdout",
     "output_type": "stream",
     "text": [
      "t - 1\n",
      "y - 3\n",
      "h - 1\n",
      "j - 3\n",
      "y - 3\n",
      "u - 2\n",
      "j - 3\n",
      "y - 3\n",
      "u - 2\n",
      "j - 3\n",
      "k - 1\n",
      "i - 1\n"
     ]
    }
   ],
   "source": [
    "priz = input('enter prizvische')\n",
    "\n",
    "for p in priz:\n",
    "    print(f'{p} - {priz.count(p)}')\n",
    "    "
   ]
  },
  {
   "cell_type": "code",
   "execution_count": 6,
   "metadata": {},
   "outputs": [
    {
     "ename": "AttributeError",
     "evalue": "'str' object has no attribute 'remove'",
     "output_type": "error",
     "traceback": [
      "\u001b[1;31m---------------------------------------------------------------------------\u001b[0m",
      "\u001b[1;31mAttributeError\u001b[0m                            Traceback (most recent call last)",
      "\u001b[1;32m~\\AppData\\Local\\Temp/ipykernel_7760/1121596549.py\u001b[0m in \u001b[0;36m<module>\u001b[1;34m\u001b[0m\n\u001b[0;32m      6\u001b[0m \u001b[1;32mfor\u001b[0m \u001b[0mn\u001b[0m \u001b[1;32min\u001b[0m \u001b[0mstroka\u001b[0m\u001b[1;33m:\u001b[0m\u001b[1;33m\u001b[0m\u001b[1;33m\u001b[0m\u001b[0m\n\u001b[0;32m      7\u001b[0m     \u001b[1;32mif\u001b[0m \u001b[0mn\u001b[0m \u001b[1;32min\u001b[0m \u001b[0mnumbers\u001b[0m\u001b[1;33m:\u001b[0m\u001b[1;33m\u001b[0m\u001b[1;33m\u001b[0m\u001b[0m\n\u001b[1;32m----> 8\u001b[1;33m         \u001b[0mstroka\u001b[0m\u001b[1;33m.\u001b[0m\u001b[0mremove\u001b[0m\u001b[1;33m(\u001b[0m\u001b[0mn\u001b[0m\u001b[1;33m)\u001b[0m\u001b[1;33m\u001b[0m\u001b[1;33m\u001b[0m\u001b[0m\n\u001b[0m\u001b[0;32m      9\u001b[0m         \u001b[0mprint\u001b[0m\u001b[1;33m(\u001b[0m\u001b[0mstroka\u001b[0m\u001b[1;33m)\u001b[0m\u001b[1;33m\u001b[0m\u001b[1;33m\u001b[0m\u001b[0m\n\u001b[0;32m     10\u001b[0m \u001b[1;33m\u001b[0m\u001b[0m\n",
      "\u001b[1;31mAttributeError\u001b[0m: 'str' object has no attribute 'remove'"
     ]
    }
   ],
   "source": [
    "#№1\n",
    "stroka = input('enter string')\n",
    "\n",
    "numbers = ['0', '1', '2', '3', '4', '5', '6', '7', '8', '9']\n",
    "\n",
    "for n in stroka:\n",
    "    if n in numbers:\n",
    "        stroka.remove(n)\n",
    "        print(stroka)\n",
    "\n",
    "#не розумію чому не працює \"remove\""
   ]
  },
  {
   "cell_type": "code",
   "execution_count": 8,
   "metadata": {},
   "outputs": [
    {
     "name": "stdout",
     "output_type": "stream",
     "text": [
      "['y', 'h', 'n', ';', '/', 'p', 'o', 'u', 'i', '-']\n"
     ]
    }
   ],
   "source": [
    "#№2\n",
    "stroka = input('Enter string')\n",
    "\n",
    "numbers = ['9', '1', '2', '3', '4', '5', '6', '7', '8', '0']\n",
    "\n",
    "new_string = []\n",
    "\n",
    "for i in stroka:\n",
    "    if i not in numbers:\n",
    "        new_string += i\n",
    "print(new_string)"
   ]
  },
  {
   "cell_type": "code",
   "execution_count": 36,
   "metadata": {},
   "outputs": [],
   "source": [
    "telephone_numbers = [\n",
    "    '+380991237055',\n",
    "    '+34287090488',\n",
    "    '65555553',\n",
    "    '380443566678',\n",
    "    '+380976046633',\n",
    "    '+485469451318'\n",
    "]\n",
    "\n",
    "code = ['067', '068', '097', '044']\n",
    "\n",
    "for number in telephone_numbers:\n",
    "    if len(number) < 13 and number[:3] == '+38' and number[3:6] not in code:\n",
    "        print(number)"
   ]
  }
 ],
 "metadata": {
  "interpreter": {
   "hash": "f23faf4bfe871c203c8bec80520af5927fc7cb1ae3bd834ddf554ee587ad1c05"
  },
  "kernelspec": {
   "display_name": "Python 3.8.10 64-bit",
   "language": "python",
   "name": "python3"
  },
  "language_info": {
   "codemirror_mode": {
    "name": "ipython",
    "version": 3
   },
   "file_extension": ".py",
   "mimetype": "text/x-python",
   "name": "python",
   "nbconvert_exporter": "python",
   "pygments_lexer": "ipython3",
   "version": "3.8.10"
  },
  "orig_nbformat": 4
 },
 "nbformat": 4,
 "nbformat_minor": 2
}
