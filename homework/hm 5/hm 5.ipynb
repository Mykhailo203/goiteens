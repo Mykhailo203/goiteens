{
 "cells": [
  {
   "cell_type": "code",
   "execution_count": 2,
   "metadata": {},
   "outputs": [
    {
     "name": "stdout",
     "output_type": "stream",
     "text": [
      "t - 1\n",
      "y - 3\n",
      "h - 1\n",
      "j - 3\n",
      "y - 3\n",
      "u - 2\n",
      "j - 3\n",
      "y - 3\n",
      "u - 2\n",
      "j - 3\n",
      "k - 1\n",
      "i - 1\n"
     ]
    }
   ],
   "source": [
    "priz = input('enter prizvische')\n",
    "\n",
    "for p in priz:\n",
    "    print(f'{p} - {priz.count(p)}')\n",
    "    "
   ]
  },
  {
   "cell_type": "code",
   "execution_count": 7,
   "metadata": {},
   "outputs": [],
   "source": [
    "stroka = input('enter string')\n",
    "\n",
    "numbers = [0, 1, 2, 3, 4, 5, 6, 7, 8, 9]\n",
    "\n",
    "for n in stroka:\n",
    "    if n in numbers:\n",
    "        stroka.remove(n)\n",
    "        print(stroka)"
   ]
  }
 ],
 "metadata": {
  "interpreter": {
   "hash": "f23faf4bfe871c203c8bec80520af5927fc7cb1ae3bd834ddf554ee587ad1c05"
  },
  "kernelspec": {
   "display_name": "Python 3.8.10 64-bit",
   "language": "python",
   "name": "python3"
  },
  "language_info": {
   "codemirror_mode": {
    "name": "ipython",
    "version": 3
   },
   "file_extension": ".py",
   "mimetype": "text/x-python",
   "name": "python",
   "nbconvert_exporter": "python",
   "pygments_lexer": "ipython3",
   "version": "3.8.10"
  },
  "orig_nbformat": 4
 },
 "nbformat": 4,
 "nbformat_minor": 2
}
