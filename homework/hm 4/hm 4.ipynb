{
 "cells": [
  {
   "cell_type": "code",
   "execution_count": 3,
   "metadata": {},
   "outputs": [
    {
     "name": "stdout",
     "output_type": "stream",
     "text": [
      "['South America', 'North America', 'Antarctica', ['Eurasia', 'Africa', 'Australia']]\n"
     ]
    }
   ],
   "source": [
    "west = ['South America', 'North America', 'Antarctica']\n",
    "east = ['Eurasia', 'Africa', 'Australia']\n",
    "west.extend(east)\n",
    "west.sort\n",
    "print(west)\n"
   ]
  },
  {
   "cell_type": "code",
   "execution_count": 2,
   "metadata": {},
   "outputs": [
    {
     "name": "stdout",
     "output_type": "stream",
     "text": [
      "Africa\n",
      "Antarctica\n",
      "Australia\n",
      "Eurasia\n",
      "North America\n",
      "South America\n"
     ]
    }
   ],
   "source": [
    "west = ['South America', 'North America', 'Antarctica']\n",
    "east = ['Eurasia', 'Africa', 'Australia']\n",
    "\n",
    "west.extend(east)\n",
    "west.sort()\n",
    "\n",
    "for a in west:\n",
    "    print(a)\n"
   ]
  },
  {
   "cell_type": "code",
   "execution_count": 1,
   "metadata": {},
   "outputs": [
    {
     "name": "stdout",
     "output_type": "stream",
     "text": [
      "['phone', 'samsung', 7800]\n",
      "['phone', 'samsung', 7800]\n",
      "Помилка\n",
      "Помилка\n",
      "Помилка\n"
     ]
    }
   ],
   "source": [
    "goods = [\n",
    "\n",
    "    ['phone', 'samsung', 7800],\n",
    "\n",
    "    ['notebook', 'dell', 28000],\n",
    "\n",
    "    ['notebook', 'hp', 35000],\n",
    "\n",
    "    ['phone', 'iphone', 27800],\n",
    "\n",
    "]\n",
    "\n",
    "type_tovar = input('Введіть тип товару')\n",
    "\n",
    "\n",
    "for tovar in goods:\n",
    "    if type_tovar in tovar:\n",
    "        print(tovar)\n",
    "        break\n",
    "    else:\n",
    "        print('Помилка')\n",
    "\n",
    "\n",
    "enter_cina = int(input('Введіть ціну'))\n",
    "\n",
    "for cina in goods:\n",
    "    if cina[2] < enter_cina:\n",
    "        print(cina)\n",
    "    else:\n",
    "        print('Помилка')\n"
   ]
  }
 ],
 "metadata": {
  "interpreter": {
   "hash": "f23faf4bfe871c203c8bec80520af5927fc7cb1ae3bd834ddf554ee587ad1c05"
  },
  "kernelspec": {
   "display_name": "Python 3.8.10 64-bit",
   "language": "python",
   "name": "python3"
  },
  "language_info": {
   "codemirror_mode": {
    "name": "ipython",
    "version": 3
   },
   "file_extension": ".py",
   "mimetype": "text/x-python",
   "name": "python",
   "nbconvert_exporter": "python",
   "pygments_lexer": "ipython3",
   "version": "3.8.10"
  },
  "orig_nbformat": 4
 },
 "nbformat": 4,
 "nbformat_minor": 2
}
