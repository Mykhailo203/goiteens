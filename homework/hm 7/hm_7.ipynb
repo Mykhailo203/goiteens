{
 "cells": [
  {
   "cell_type": "code",
   "execution_count": 48,
   "metadata": {},
   "outputs": [
    {
     "name": "stdout",
     "output_type": "stream",
     "text": [
      "Dmytro : 5\n",
      "Yaroslav : 4\n",
      "Kiril : 4\n"
     ]
    }
   ],
   "source": [
    "pupils = {\n",
    "    'Andrii': 2,\n",
    "    'Dmytro': 5,\n",
    "    'Yaroslav': 4,\n",
    "    'Oleh' : 3,\n",
    "    'Kiril': 4,\n",
    "    'Oleksandr': 1}\n",
    "\n",
    "\n",
    "for i, value in pupils.items():\n",
    "    if value == 4 or value == 5:\n",
    "        print(i, ':', value)\n",
    "        "
   ]
  },
  {
   "cell_type": "code",
   "execution_count": 49,
   "metadata": {},
   "outputs": [
    {
     "name": "stdout",
     "output_type": "stream",
     "text": [
      "Dmytro : 5\n",
      "Yaroslav : 4\n",
      "Kiril : 4\n"
     ]
    }
   ],
   "source": [
    "#Просто для себе\n",
    "\n",
    "pupils = {\n",
    "    'Andrii': 2,\n",
    "    'Dmytro': 5,\n",
    "    'Yaroslav': 4,\n",
    "    'Oleh' : 3,\n",
    "    'Kiril': 4,\n",
    "    'Oleksandr': 1}\n",
    "\n",
    "\n",
    "for i, x in pupils.items():\n",
    "    if x == 4 or x == 5:\n",
    "        print(i, ':', x)"
   ]
  },
  {
   "cell_type": "code",
   "execution_count": 47,
   "metadata": {},
   "outputs": [
    {
     "name": "stdout",
     "output_type": "stream",
     "text": [
      "Середня температура - 0.5714285714285714\n"
     ]
    }
   ],
   "source": [
    "cities_weather = {\n",
    "    'Київ': 2,\n",
    "    'Львів': -2,\n",
    "    'Одеса': 5,\n",
    "    'Житомир': 1,\n",
    "    'Чернігів': 0,\n",
    "    'Карпати': -5,\n",
    "    'Івано-франківськ': 3\n",
    "}\n",
    "amount = len(cities_weather)\n",
    "degrees = 0\n",
    "for i in cities_weather.values():\n",
    "    degrees += i\n",
    "    middle_degrees = degrees/amount\n",
    "print('Середня температура -', middle_degrees)"
   ]
  }
 ],
 "metadata": {
  "interpreter": {
   "hash": "f23faf4bfe871c203c8bec80520af5927fc7cb1ae3bd834ddf554ee587ad1c05"
  },
  "kernelspec": {
   "display_name": "Python 3.8.10 64-bit",
   "language": "python",
   "name": "python3"
  },
  "language_info": {
   "codemirror_mode": {
    "name": "ipython",
    "version": 3
   },
   "file_extension": ".py",
   "mimetype": "text/x-python",
   "name": "python",
   "nbconvert_exporter": "python",
   "pygments_lexer": "ipython3",
   "version": "3.8.10"
  },
  "orig_nbformat": 4
 },
 "nbformat": 4,
 "nbformat_minor": 2
}
